{
  "nbformat": 4,
  "nbformat_minor": 0,
  "metadata": {
    "colab": {
      "provenance": [],
      "include_colab_link": true
    },
    "kernelspec": {
      "name": "python3",
      "display_name": "Python 3"
    },
    "language_info": {
      "name": "python"
    }
  },
  "cells": [
    {
      "cell_type": "markdown",
      "metadata": {
        "id": "view-in-github",
        "colab_type": "text"
      },
      "source": [
        "<a href=\"https://colab.research.google.com/github/CruzElizorios/aprendiendo-python/blob/main/Programaci%C3%B3n_1_pr%C3%A1ctica_4.ipynb\" target=\"_parent\"><img src=\"https://colab.research.google.com/assets/colab-badge.svg\" alt=\"Open In Colab\"/></a>"
      ]
    },
    {
      "cell_type": "markdown",
      "source": [
        "# Unidad 6 | Funciones\n",
        "Introducción a las funciones Funciones integradas (built-in). Métodos. Declaración e invocación de funciones propias. Retorno y envío de valores."
      ],
      "metadata": {
        "id": "PG0_CG8t15Tk"
      }
    },
    {
      "cell_type": "markdown",
      "source": [
        "###Esqueleto de una función"
      ],
      "metadata": {
        "id": "vcpEjO6J5FGD"
      }
    },
    {
      "cell_type": "code",
      "source": [
        "def nombreDeMiFuncion(parametro_1: type, parametro_n: type) -> type, type:\n",
        "  \"\"\"\n",
        "  Documentación de la función.\n",
        "  \"\"\"\n",
        "  # Bloque de código que realiza mi función\n",
        "  return variable_1, variable_m\n"
      ],
      "metadata": {
        "id": "ST9bsMae5Lrm"
      },
      "execution_count": null,
      "outputs": []
    },
    {
      "cell_type": "markdown",
      "source": [
        "Una función tiene la capacidad de recibir un número indefinido de argumentos (n), separados por coma, independientemente de su tipo de dato. \\\n",
        "Asimismo, es capaz de retornar la cantidad de variables que se le solicite (m), sin restricciones en cuanto a su tipo de dato.\n",
        "Para retornar varios elementos los separaremos por coma."
      ],
      "metadata": {
        "id": "RUEgOeNZ7IX7"
      }
    },
    {
      "cell_type": "markdown",
      "source": [
        "###Invocación a la función"
      ],
      "metadata": {
        "id": "xmOIGPi570c3"
      }
    },
    {
      "cell_type": "code",
      "source": [
        "retorno_1, retorno_m = nombreDeMiFuncion(argumento_1, argumento_n)"
      ],
      "metadata": {
        "id": "ddXHa-HL8X-I"
      },
      "execution_count": null,
      "outputs": []
    },
    {
      "cell_type": "code",
      "source": [
        "def suma_resta(a: int, b: int) -> tuple:\n",
        "  \"\"\"\n",
        "  Recibe 2 enteros y retorna la suma y la resta de ellos.\n",
        "  \"\"\"\n",
        "  return a+b, a-b\n",
        "\n",
        "num1 = 2\n",
        "num2 = 3\n",
        "resta, suma = suma_resta(num1, num2)\n",
        "\n",
        "print(f'resta: {resta}')\n",
        "\n",
        "print(f'suma: {suma}')"
      ],
      "metadata": {
        "id": "O_9KaFT9lJnH"
      },
      "execution_count": null,
      "outputs": []
    },
    {
      "cell_type": "code",
      "source": [
        "def division(a: int, b: int):\n",
        "  if b:\n",
        "    return a/b\n",
        "  else:\n",
        "    return None"
      ],
      "metadata": {
        "id": "liLFYDrEmuoy"
      },
      "execution_count": null,
      "outputs": []
    },
    {
      "cell_type": "code",
      "source": [
        "division(1,3)\n",
        "if division(1,3) == None:\n",
        "  print('ZeroDivision Error')\n",
        "\n",
        "print('hola')"
      ],
      "metadata": {
        "id": "ZXFv0smCm9nv"
      },
      "execution_count": null,
      "outputs": []
    },
    {
      "cell_type": "markdown",
      "source": [
        "### Práctica métodos y funciones built in\n"
      ],
      "metadata": {
        "id": "NLzTUymZ_v9_"
      }
    },
    {
      "cell_type": "markdown",
      "source": [
        "**Ejercicio 1** Escribir un programa que le pregunte a las personas su fecha de nacimiento y en base a eso imprimir su signo zodıacal.\n",
        "\n",
        "El formato de ingreso de la fecha debe ser DD/MM/YY.\n",
        "\n",
        "Ayuda: investigar *split*"
      ],
      "metadata": {
        "id": "6upib1wwwQTm"
      }
    },
    {
      "cell_type": "code",
      "source": [
        "#fecha = input('Ingrese su fecha de nacimiento: ')\n",
        "dd, mm, aa = '20/01/99'.split('/')\n",
        "if (int(dd)<21 and int(mm)==1):\n",
        "  print('Capricornio')\n",
        "elif (int(dd)<21 and int(mm)==2):\n",
        "  print('Acuario')"
      ],
      "metadata": {
        "id": "KYafzEV3S_eI"
      },
      "execution_count": null,
      "outputs": []
    },
    {
      "cell_type": "markdown",
      "source": [
        "**Ejercicio 2** Dada una cadena de caracteres ordenarla de forma ascendente y luego descendente.\n",
        "\n",
        "Ayuda: investigar *sorted*"
      ],
      "metadata": {
        "id": "W1Us3dUA3TdL"
      }
    },
    {
      "cell_type": "markdown",
      "source": [
        "**Ejercicio 3**\n",
        "Realizar una función que tome como parámetros 3 números, se fije cual es el número más grande (N) y el más chico (M) y devuelva la potencia de Nᴹ.\n",
        "Utilizar solo funciones built in.\n",
        "\n",
        "Ayuda: investigar *math.pow, max y min*"
      ],
      "metadata": {
        "id": "yo27zgr_t99L"
      }
    },
    {
      "cell_type": "markdown",
      "source": [
        "**Ejercicio 5**\n",
        "Juego de adivinanza: Escribe un programa que elija un número aleatorio entre 1 y 10 y le pida al usuario que adivine el número. Si el usuario adivina correctamente, el programa imprimirá \"¡Ganaste!\", de lo contrario, el programa imprimirá \"Intenta de nuevo\" y le dará otra oportunidad al usuario para adivinar.\n",
        "\n",
        "Ayuda: investigar *random*"
      ],
      "metadata": {
        "id": "Vcg2sDm2AInE"
      }
    },
    {
      "cell_type": "markdown",
      "source": [
        "### Práctica de funciones"
      ],
      "metadata": {
        "id": "ZXl5_ySxtAOs"
      }
    },
    {
      "cell_type": "markdown",
      "source": [
        "**Ejercicio 1**\n",
        "Realizar una función que calcule la suma de dos números. En el algoritmo principal le pediremos\n",
        "al usuario que ingrese por consola los dos números para pasárselos a la función. Después la función\n",
        "calculará la suma y lo devolverá para imprimirlo en el algoritmo."
      ],
      "metadata": {
        "id": "XqEFK47UtDFh"
      }
    },
    {
      "cell_type": "markdown",
      "source": [
        "**Ejercicio 2** Escribir una función que calcule la longitud de una cadena.\n",
        "\n",
        "Nota: no utilizar la función len."
      ],
      "metadata": {
        "id": "tVZv3xJ-refN"
      }
    },
    {
      "cell_type": "markdown",
      "source": [
        "**Ejercicio 3**\n",
        "Realizar una función que pida al usuario una frase y una letra a buscar en esa frase. La función debe\n",
        "devolver la cantidad de veces que encontró la letra."
      ],
      "metadata": {
        "id": "MI9uFBvDtORh"
      }
    },
    {
      "cell_type": "markdown",
      "source": [
        "**Ejercicio 4** Un número es primo si solo si sus únicos divisores son 1 y el mismo número.\n",
        "\n"
      ],
      "metadata": {
        "id": "YsK8bFg-r4Nu"
      }
    },
    {
      "cell_type": "markdown",
      "source": [
        "```python\n",
        "a. Escriba una función que determine si un numero es primo o no.\n",
        "```"
      ],
      "metadata": {
        "id": "gUrRtAPqsK_q"
      }
    },
    {
      "cell_type": "markdown",
      "source": [
        "```python\n",
        "b. Escriba otra función que reciba un número n e imprima todos los números primos menores que n.\n",
        "```"
      ],
      "metadata": {
        "id": "Ovf7d0G2sMlS"
      }
    },
    {
      "cell_type": "markdown",
      "source": [
        "**Ejercicio 5**\n",
        "Realizar un menú similar a una calculadora. Funciones:\n",
        "1. Suma(num1, num2)\n",
        "2. Resta(num1, num2)\n",
        "3. Division(num1, num2)\n",
        "4. Multiplicacion(num1, num2)\n",
        "5. Factorial(num)\n",
        "0. Salir"
      ],
      "metadata": {
        "id": "2KFpPbJ8sOA_"
      }
    },
    {
      "cell_type": "code",
      "source": [
        "def suma():\n",
        "  pass"
      ],
      "metadata": {
        "id": "p98F4T4Psa_5"
      },
      "execution_count": null,
      "outputs": []
    }
  ]
}