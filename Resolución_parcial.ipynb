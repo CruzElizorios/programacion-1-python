{
  "nbformat": 4,
  "nbformat_minor": 0,
  "metadata": {
    "colab": {
      "provenance": [],
      "include_colab_link": true
    },
    "kernelspec": {
      "name": "python3",
      "display_name": "Python 3"
    },
    "language_info": {
      "name": "python"
    }
  },
  "cells": [
    {
      "cell_type": "markdown",
      "metadata": {
        "id": "view-in-github",
        "colab_type": "text"
      },
      "source": [
        "<a href=\"https://colab.research.google.com/github/CruzElizorios/aprendiendo-python/blob/main/Resoluci%C3%B3n_parcial.ipynb\" target=\"_parent\"><img src=\"https://colab.research.google.com/assets/colab-badge.svg\" alt=\"Open In Colab\"/></a>"
      ]
    },
    {
      "cell_type": "markdown",
      "source": [
        "Ejercicio 1. Verdadero o Falso (justifique su respuesta):"
      ],
      "metadata": {
        "id": "vFThg7DTsYJY"
      }
    },
    {
      "cell_type": "code",
      "execution_count": null,
      "metadata": {
        "id": "y8EU0ZmbsAVx"
      },
      "outputs": [],
      "source": [
        "# a. El siguiente código es correcto: FALSO\n",
        "\n",
        "persona = [\" Juan \", \" Perez \", \" Ayacucho 1157 \"]\n",
        "persona [2] = \" Ayacucho 1167 \""
      ]
    },
    {
      "cell_type": "code",
      "source": [
        "# b. Los siguientes extractos de código son equivalentes: FALSO\n",
        "\n",
        "i = 0\n",
        "while ( i < 6):\n",
        "  print ( i )\n",
        "  i +=1"
      ],
      "metadata": {
        "id": "3PgJBO6-sjm-",
        "colab": {
          "base_uri": "https://localhost:8080/"
        },
        "outputId": "d47ee6db-a6e5-4a03-cd1b-3229331e6f26"
      },
      "execution_count": null,
      "outputs": [
        {
          "output_type": "stream",
          "name": "stdout",
          "text": [
            "0\n",
            "1\n",
            "2\n",
            "3\n",
            "4\n",
            "5\n"
          ]
        }
      ]
    },
    {
      "cell_type": "code",
      "source": [
        "for i in range (6):\n",
        "  print ( i )"
      ],
      "metadata": {
        "id": "hK1JRos4sl9r",
        "colab": {
          "base_uri": "https://localhost:8080/"
        },
        "outputId": "9ec67d12-c8f1-4351-caa6-316c73d2ef5f"
      },
      "execution_count": null,
      "outputs": [
        {
          "output_type": "stream",
          "name": "stdout",
          "text": [
            "0\n",
            "1\n",
            "2\n",
            "3\n",
            "4\n",
            "5\n"
          ]
        }
      ]
    },
    {
      "cell_type": "code",
      "source": [
        "\n"
      ],
      "metadata": {
        "id": "e8hEC7vEs5iE"
      },
      "execution_count": null,
      "outputs": []
    },
    {
      "cell_type": "code",
      "source": [
        "# c. Los siguientes extractos de código son equivalentes: fALSO\n",
        "\n",
        "for i in range (6 , 1, -1):\n",
        "  print ( i )\n",
        "\n",
        "for i in [6 , 5 , 4, 3 , 2 , 1]:\n",
        "  print ( i )\n",
        "\n"
      ],
      "metadata": {
        "id": "uLtkkzaas0RZ"
      },
      "execution_count": null,
      "outputs": []
    },
    {
      "cell_type": "markdown",
      "source": [
        "Ejercicio 2. Escribir una función celToFar que reciba una temperatura expresada en grados Celsius y devuelva su\n",
        "equivalente en grados Farenheit.\n",
        "\n",
        "Recuerde que:\n",
        "C = (F − 32) · (5/9), donde C y F representan la misma temperatura expresada en grados Celsius y\n",
        "Farenheit, respectivamente.\n",
        "Ejemplo:\n",
        "celToFar(25) debe devolver 77"
      ],
      "metadata": {
        "id": "hPhj6b8wtKco"
      }
    },
    {
      "cell_type": "code",
      "source": [
        "def celToFar(temp_c: float) -> float :\n",
        "  \"\"\" ... \"\"\"\n",
        "  temp_f = temp_c*(9/5)+32\n",
        "  return temp_f # temp_c*(9/5)+32"
      ],
      "metadata": {
        "id": "Yu8A3kmQtO_S"
      },
      "execution_count": null,
      "outputs": []
    },
    {
      "cell_type": "markdown",
      "source": [
        "Ejercicio 3. . Escribir una función cantTemp que recibe una lista de temperaturas expresadas en grados Celsius y\n",
        "devuelve como resultado la cantidad de temperaturas de dicha lista que son estrictamente superiores a\n",
        "los 77 grados Farenheit. Debe invocar a la función definida en el ejercicio anterior en su implementación.\n",
        "Ejemplo:\n",
        "cantTemp([35, 25, 17, 29]) debe devolver 2\n"
      ],
      "metadata": {
        "id": "c7NsRLE_tP04"
      }
    },
    {
      "cell_type": "code",
      "source": [
        "def cantTemp(lista: list) -> int:\n",
        "  \"\"\" \"\"\"\n",
        "  contador = 0\n",
        "  # recorrer por indice\n",
        "  for index in range(len(lista)): # index va de 0 a len-1\n",
        "    temp_c = lista[index]\n",
        "    temp_f = celToFar(temp_c) # celToFar(lista[index])\n",
        "    if temp_f > 77:\n",
        "      contador +=1 # contador = contador + 1\n",
        "  # recorrer por valor\n",
        "  for temp_c in lista:\n",
        "    temp_f = celToFar(temp_c)\n",
        "    if temp_f > 77:\n",
        "      contador +=1 # contador = contador + 1\n",
        "  return contador"
      ],
      "metadata": {
        "id": "XCh34gkCtam-"
      },
      "execution_count": null,
      "outputs": []
    },
    {
      "cell_type": "code",
      "source": [
        "# recorrer por indice y valor SOLO PARA STRINGS, LISTAS Y TUPLAS\n",
        "for indice, valor enumerate(<iterable>):\n",
        "  pass\n"
      ],
      "metadata": {
        "id": "z9ew6FilJ6qf"
      },
      "execution_count": null,
      "outputs": []
    },
    {
      "cell_type": "markdown",
      "source": [
        "Ejercicio 4. Escribir una función notasToCondiciones que reciba un diccionario con los nombres de alumnos que\n",
        "cursaron una materia como claves y su promedio al finalizar el cursado como valor y devuelva otro\n",
        "diccionario con las mismas claves y como valores sus condiciones finales en la materia, considerando\n",
        "que todo aquel que obtuvo un promedio mayor o igual a 6 aprobó, el resto desaprobó.\n",
        "\n",
        "Ejemplo:\n",
        "notasToCondiciones({\"Juan Alvarez\": 4.9, \"Alejandra Sosa\": 8.0, \"Rodrigo Altamirano\":\n",
        "3.6, \"Juana García\": 7.8})\n",
        "debe devolver\n",
        "{\"Juan Alvarez\": \"Desaprobado/a\", \"Alejandra Sosa\": \"Aprobado/a\", \"Rodrigo Altamirano\":\n",
        "\"Desaprobado/a\", \"Juana García\": \"Aprobado/a\"}"
      ],
      "metadata": {
        "id": "ttyORLfita5a"
      }
    },
    {
      "cell_type": "code",
      "source": [
        "def notasToCondiciones(notas_alumnos: dict[str, float]) -> dict[str, str]:\n",
        "  condiciones = {}\n",
        "\n",
        "  for nombre_alumno, nota in notas_alumnos.items():\n",
        "    if nota >= 6:\n",
        "      condiciones[nombre_alumno] = \"Aprobado\"\n",
        "    else:\n",
        "      condiciones[nombre_alumno] = \"Desprobado\"\n",
        "\n",
        "  return condiciones"
      ],
      "metadata": {
        "id": "9E2MK6XiMIOj"
      },
      "execution_count": null,
      "outputs": []
    },
    {
      "cell_type": "markdown",
      "source": [],
      "metadata": {
        "id": "sLqSU3gZtpZp"
      }
    },
    {
      "cell_type": "code",
      "source": [
        "Teniendo en cuenta las siguientes variables con sus contenidos:\n",
        "d1 = {\" Juan Alvarez \": 4.9 ,\" Alejandra Sosa \": 8.0 ,\n",
        "\" Rodrigo Altamirano \": 3.6 , \" Juana Garc ía\": 7.8}\n",
        "d2 = {\" Juana Garc ía\": 8.0 , \" Alejandra Sosa \": 7.0 ,\n",
        "\" Ximena Rojas \": 3.6}"
      ],
      "metadata": {
        "id": "5o73jaz0tpwt"
      },
      "execution_count": null,
      "outputs": []
    },
    {
      "cell_type": "code",
      "source": [
        "diccionario = {\" Juan Alvarez \": 4.9 ,\" Alejandra Sosa \": 8.0 ,\n",
        "\" Rodrigo Altamirano \": 3.6 , \" Juana García\": 7.8}\n",
        "\n",
        "# recorrerlo por clave\n",
        "for clave in diccionario: # diccionario.keys()\n",
        "  nota = diccionario[clave]\n",
        "  # nota = lista[indice]\n",
        "\n",
        "\n",
        "# recorrer por valor\n",
        "for valor in diccionario.values():\n",
        "  nota = valor\n",
        "\n",
        "\n",
        "# recorrer por par\n",
        "for clave, valor in diccionario.items():\n",
        "  pass"
      ],
      "metadata": {
        "id": "t1513wVWKT5s"
      },
      "execution_count": null,
      "outputs": []
    },
    {
      "cell_type": "code",
      "source": [
        "d1 = {\" Juan Alvarez \": 4.9 ,\" Alejandra Sosa \": 8.0 ,\n",
        "\" Rodrigo Altamirano \": 3.6 , \" Juana Garc ía\": 7.8}\n",
        "d2 = {\" Juana Garc ía\": 8.0 , \" Alejandra Sosa \": 7.0 ,\n",
        "\" Ximena Rojas \": 3.6}"
      ],
      "metadata": {
        "id": "Sn-hRxKXOFrt"
      },
      "execution_count": null,
      "outputs": []
    },
    {
      "cell_type": "code",
      "source": [
        "# a. ¿Cuál es el resultado que obtenemos al ejecutar: d1.get(\"Guillermina Vidal\")?\n",
        "#print(d1.get(\"Guillermina Vidal\")) # d1.get(\"Guillermina Vidal\", \"valor si no se encuentra\")\n",
        "\n",
        "# b. ¿Cuál es el valor de d1 luego de ejecutar: d1.update(d2)?\n",
        "#d1.update(d2)\n",
        "#print(d1)\n",
        "\n",
        "# c. ¿Cuál es el valor de d2 luego de ejecutar: d2.update(d1) (sin considerar\n",
        "# los cambios del item anterior)?\n",
        "\n",
        "d2.update(d1)\n",
        "\n",
        "print(d2)\n"
      ],
      "metadata": {
        "colab": {
          "base_uri": "https://localhost:8080/"
        },
        "id": "d4BHTDxKOLPC",
        "outputId": "e2a0461a-2bea-49ad-83de-9e4192e7f7a0"
      },
      "execution_count": null,
      "outputs": [
        {
          "output_type": "stream",
          "name": "stdout",
          "text": [
            "{' Juana Garc ía': 7.8, ' Alejandra Sosa ': 8.0, ' Ximena Rojas ': 3.6, ' Juan Alvarez ': 4.9, ' Rodrigo Altamirano ': 3.6}\n"
          ]
        }
      ]
    },
    {
      "cell_type": "markdown",
      "source": [
        "6. Escribir un programa que solicite información al usuario y devuelva un análisis de los datos ingresados.\n",
        "El usuario deberá ingresar manualmente datos sobre la ciudad de Rosario similares a los de la siguiente\n",
        "planilla:\n",
        "\n",
        "\n",
        "Barrio Costo del metro cuadrado en dólares\n",
        "Abasto 1100\n",
        "Arroyito 900\n",
        ". . . . . .\n",
        "Martin 2300\n",
        "Saladillo 600\n",
        "\n",
        "\n",
        "y mostrar en pantalla el precio promedio del metro cuadrado en la ciudad de Rosario (teniendo en\n",
        "cuenta la información de todos los barrios ingresados por el usuario), el nombre del barrio más caro y\n",
        "el nombre del barrio más barato (respecto al precio del metro cuadrado).\n"
      ],
      "metadata": {
        "id": "qYd03dZvaVGh"
      }
    },
    {
      "cell_type": "code",
      "source": [
        "def ingresoDeDatos () -> list[str, float]:\n",
        "  \"\"\"\n",
        "  Esta función solicita al usuario que ingrese los datos presentados\n",
        "  en la planilla y devuelva una lista de tuplas, donde la primer\n",
        "  componente es el nombre del barrio y la segunda componente es el\n",
        "  precio por metro cuadrado del barrio\n",
        "  \"\"\"\n",
        "  barrios = []\n",
        "\n",
        "  while True:\n",
        "    nombre_barrio = input(\"Ingrese el nombre del barrio (q para terminar): \")\n",
        "\n",
        "    if nombre_barrio == \"q\":\n",
        "      break\n",
        "\n",
        "    precio_barrio = float(input(\"ingrese el precio del barrio: \"))\n",
        "\n",
        "    tupla_barrios = (nombre_barrio, precio_barrio)\n",
        "\n",
        "    barrios.append(tupla_barrios)\n",
        "\n",
        "  return barrios\n",
        "\n",
        "def promMinMax ( listaB : list[tuple[str, float]] ) -> tuple[float, str, str]:\n",
        "  \"\"\"\n",
        "  Esta función recibe una lista de tuplas donde la primera componente\n",
        "  es el nombre del barrio y la segunda componente es el precio por\n",
        "  metro cuadrado del barrio , y devuelve el precio promedio en la\n",
        "  ciudad , el nombre del barrio más barato y el nombre del barrio\n",
        "  más caro\n",
        "  \"\"\"\n",
        "  nombre_max = listaB[0][0]\n",
        "  precio_max = listaB[0][1]\n",
        "\n",
        "  nombre_min = listaB[0][0]\n",
        "  precio_min = listaB[0][1]\n",
        "\n",
        "  suma = 0\n",
        "\n",
        "  for nombre, precio in listaB:\n",
        "    if precio > precio_max:\n",
        "      precio_max = precio\n",
        "      nombre_max = nombre\n",
        "\n",
        "    if precio < precio_min:\n",
        "      precio_min = precio\n",
        "      nombre_min = nombre\n",
        "\n",
        "    suma += precio\n",
        "\n",
        "  promedio = suma / len(listaB)\n",
        "  # completar para responder a la consigna\n",
        "  return promedio , nombre_min , nombre_max\n",
        "\n",
        "def principal () -> None:\n",
        "  \"\"\"\n",
        "  Este es el programa principal\n",
        "  \"\"\"\n",
        "  listaBarrios = ingresoDeDatos()\n",
        "\n",
        "  promedio, minimo, maximo = promMinMax(listaBarrios)\n",
        "\n",
        "  print(f\"\"\"Precio promedio: {promedio} \\nBarrio más barato: {minimo}\n",
        "Barrio más caro: {maximo}\"\"\")\n",
        "\n",
        "principal () # con esta linea probamos el programa"
      ],
      "metadata": {
        "colab": {
          "base_uri": "https://localhost:8080/"
        },
        "id": "xTKgVDxFRIC6",
        "outputId": "d8b8502b-6852-4110-e303-eae2e490553c"
      },
      "execution_count": null,
      "outputs": [
        {
          "output_type": "stream",
          "name": "stdout",
          "text": [
            "Ingrese el nombre del barrio (q para terminar): b1\n",
            "ingrese el precio del barrio: 1213\n",
            "Ingrese el nombre del barrio (q para terminar): b2\n",
            "ingrese el precio del barrio: 432\n",
            "Ingrese el nombre del barrio (q para terminar): c3\n",
            "ingrese el precio del barrio: 217231\n",
            "Ingrese el nombre del barrio (q para terminar): q\n",
            "Precio promedio: 72958.66666666667 \n",
            "Barrio más barato: b2\n",
            "        Barrio más caro: c3\n",
            "        \n"
          ]
        }
      ]
    }
  ]
}