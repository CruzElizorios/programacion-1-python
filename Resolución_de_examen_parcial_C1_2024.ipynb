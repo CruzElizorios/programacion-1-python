{
  "nbformat": 4,
  "nbformat_minor": 0,
  "metadata": {
    "colab": {
      "provenance": [],
      "include_colab_link": true
    },
    "kernelspec": {
      "name": "python3",
      "display_name": "Python 3"
    },
    "language_info": {
      "name": "python"
    }
  },
  "cells": [
    {
      "cell_type": "markdown",
      "metadata": {
        "id": "view-in-github",
        "colab_type": "text"
      },
      "source": [
        "<a href=\"https://colab.research.google.com/github/CruzElizorios/aprendiendo-python/blob/main/Resoluci%C3%B3n_de_examen_parcial_C1_2024.ipynb\" target=\"_parent\"><img src=\"https://colab.research.google.com/assets/colab-badge.svg\" alt=\"Open In Colab\"/></a>"
      ]
    },
    {
      "cell_type": "markdown",
      "source": [
        "# Revisión Examen Parcial\n",
        "16 de mayo de 2024 | Comisiones 1 y 3\n",
        "\n",
        "\n",
        "*Nota importante: esta revisión del examen se ofrece es a fines orientativos y de repaso de los temas evaluados durante el parcial, no debe entenderse en ningún caso como parte de la corrección individual de exámenes particulares que serán entregadas en papel con la calificación correspondiente.*\n",
        "\n",
        "*En algunos casos los ejercicios evaluados presentan más de una solución, aquí se expone sólo una de esas posibilidades.*"
      ],
      "metadata": {
        "id": "Gw9IqCfS9WnN"
      }
    },
    {
      "cell_type": "markdown",
      "source": [
        "## Ejercicio 1\n",
        "\n",
        "Dado el siguiente segmento de algoritmo, reescríbalo utilziando la estructura iterativa `while`. Utilice las mismas variables sin cambiar el nombre ni uso de las mismas, ni incorporar nuevas.\n",
        "\n",
        "\n",
        "```\n",
        "pares_de_dos_digitos = []\n",
        "suma = 0\n",
        "for par in range(10, 100, 2):\n",
        "  suma += par\n",
        "  pares_de_dos_digitos.append(par)\n",
        "print(\"Los pares de dos dígitos son: \", pares_de_dos_digitos)\n",
        "print(\"Su suma es: \", suma)\n",
        "```"
      ],
      "metadata": {
        "id": "-lS44QEEkMbv"
      }
    },
    {
      "cell_type": "code",
      "source": [
        "pares_de_dos_digitos = []\n",
        "suma = 0\n",
        "for par in range(10, 100, 2):\n",
        "  suma += par\n",
        "  pares_de_dos_digitos.append(par)\n",
        "print(\"Los pares de dos dígitos son: \", pares_de_dos_digitos)\n",
        "print(\"Su suma es: \", suma)"
      ],
      "metadata": {
        "colab": {
          "base_uri": "https://localhost:8080/"
        },
        "id": "P2W_XTtOUJO9",
        "outputId": "a763288e-d23e-4c8b-ecb0-28bfc362d907"
      },
      "execution_count": null,
      "outputs": [
        {
          "output_type": "stream",
          "name": "stdout",
          "text": [
            "Los pares de dos dígitos son:  [10, 12, 14, 16, 18, 20, 22, 24, 26, 28, 30, 32, 34, 36, 38, 40, 42, 44, 46, 48, 50, 52, 54, 56, 58, 60, 62, 64, 66, 68, 70, 72, 74, 76, 78, 80, 82, 84, 86, 88, 90, 92, 94, 96, 98]\n",
            "Su suma es:  2430\n"
          ]
        }
      ]
    },
    {
      "cell_type": "code",
      "execution_count": null,
      "metadata": {
        "id": "Eonlolc8kEPT",
        "colab": {
          "base_uri": "https://localhost:8080/"
        },
        "outputId": "15414f22-44dd-41a3-e8ab-97069edd9d29"
      },
      "outputs": [
        {
          "output_type": "stream",
          "name": "stdout",
          "text": [
            "Los pares de dos dígitos son:  [10, 12, 14, 16, 18, 20, 22, 24, 26, 28, 30, 32, 34, 36, 38, 40, 42, 44, 46, 48, 50, 52, 54, 56, 58, 60, 62, 64, 66, 68, 70, 72, 74, 76, 78, 80, 82, 84, 86, 88, 90, 92, 94, 96, 98]\n",
            "Su suma es:  2430\n"
          ]
        }
      ],
      "source": [
        "pares_de_dos_digitos = []\n",
        "suma = 0\n",
        "par = 10\n",
        "while par < 100:\n",
        "  suma += par\n",
        "  pares_de_dos_digitos.append(par)\n",
        "  par += 2\n",
        "print(\"Los pares de dos dígitos son: \", pares_de_dos_digitos)\n",
        "print(\"Su suma es: \", suma)"
      ]
    },
    {
      "cell_type": "markdown",
      "source": [
        "## Ejercicio 2\n",
        "\n",
        "Indique si cada uno de los siguientes códigos es correcto o contiene algún error. Si es correcto, indique que se mostrará en pantalla. Si tiene un error, explique por que ocurre"
      ],
      "metadata": {
        "id": "7sWmiXuqlNRZ"
      }
    },
    {
      "cell_type": "markdown",
      "source": [
        "### a)\n",
        "\n",
        "```\n",
        "for numero in (3, 1, -2):\n",
        "  print(numero)\n",
        "```\n",
        "\n"
      ],
      "metadata": {
        "id": "v2uLAPjGlr_Z"
      }
    },
    {
      "cell_type": "code",
      "source": [
        "# El programa se ejecuta correctamente mostrando en pantalla los valores: 3 1 2\n",
        "for numero in (3, 1, -2):\n",
        "  print(numero)"
      ],
      "metadata": {
        "id": "XTqUl9mClk25",
        "colab": {
          "base_uri": "https://localhost:8080/"
        },
        "outputId": "618e0b21-4468-491f-a5d4-942b2e3946fe"
      },
      "execution_count": null,
      "outputs": [
        {
          "output_type": "stream",
          "name": "stdout",
          "text": [
            "3\n",
            "1\n",
            "-2\n"
          ]
        }
      ]
    },
    {
      "cell_type": "markdown",
      "source": [
        "*Nota: el enunciado contenía un error de tipeo y no indicaba los dos puntos `:` del ciclo `for`. Por lo tanto, también se considerarán correctas las respuestas que indiquen que el código contenía ese error de sintaxis.*"
      ],
      "metadata": {
        "id": "PQoxjVTInNdK"
      }
    },
    {
      "cell_type": "markdown",
      "source": [
        "### b)\n",
        "\n",
        "```\n",
        "sedes_FCEIA = [(-32.96 , -60.63) , ( -32.97 , -60.62)]\n",
        "sedes_FCEIA[0].append(\"Pellegrini\")\n",
        "sedes_FCEIA[1].append(\"CUR\")\n",
        "print(sedes_FCEIA)\n",
        "```\n",
        "\n"
      ],
      "metadata": {
        "id": "wP5ezLCPnJsK"
      }
    },
    {
      "cell_type": "code",
      "source": [
        "\"\"\"\"\n",
        "El programa tiene un error, ya que intenta agregar un elemento a una tupla,\n",
        "y las tuplas son inmutables, por lo que al ejecutar se indicará que\n",
        "hay un error ya que no existe el método 'append' para tuplas.\n",
        "\"\"\"\n",
        "sedes_FCEIA = [(-32.96, -60.63), ( -32.97, -60.62)]\n",
        "sedes_FCEIA[0].append(\"Pellegrini\")\n",
        "sedes_FCEIA[1].append(\"CUR\")\n",
        "print(sedes_FCEIA)"
      ],
      "metadata": {
        "id": "w-dh_pJ2l3y1",
        "colab": {
          "base_uri": "https://localhost:8080/",
          "height": 211
        },
        "outputId": "7a3ba4a4-4441-4a13-cef6-35c72a5d01d6"
      },
      "execution_count": null,
      "outputs": [
        {
          "output_type": "error",
          "ename": "AttributeError",
          "evalue": "'tuple' object has no attribute 'append'",
          "traceback": [
            "\u001b[0;31m---------------------------------------------------------------------------\u001b[0m",
            "\u001b[0;31mAttributeError\u001b[0m                            Traceback (most recent call last)",
            "\u001b[0;32m<ipython-input-6-4fd8551f21b6>\u001b[0m in \u001b[0;36m<cell line: 7>\u001b[0;34m()\u001b[0m\n\u001b[1;32m      5\u001b[0m \"\"\"\n\u001b[1;32m      6\u001b[0m \u001b[0msedes_FCEIA\u001b[0m \u001b[0;34m=\u001b[0m \u001b[0;34m[\u001b[0m\u001b[0;34m(\u001b[0m\u001b[0;34m-\u001b[0m\u001b[0;36m32.96\u001b[0m\u001b[0;34m,\u001b[0m \u001b[0;34m-\u001b[0m\u001b[0;36m60.63\u001b[0m\u001b[0;34m)\u001b[0m\u001b[0;34m,\u001b[0m \u001b[0;34m(\u001b[0m \u001b[0;34m-\u001b[0m\u001b[0;36m32.97\u001b[0m\u001b[0;34m,\u001b[0m \u001b[0;34m-\u001b[0m\u001b[0;36m60.62\u001b[0m\u001b[0;34m)\u001b[0m\u001b[0;34m]\u001b[0m\u001b[0;34m\u001b[0m\u001b[0;34m\u001b[0m\u001b[0m\n\u001b[0;32m----> 7\u001b[0;31m \u001b[0msedes_FCEIA\u001b[0m\u001b[0;34m[\u001b[0m\u001b[0;36m0\u001b[0m\u001b[0;34m]\u001b[0m\u001b[0;34m.\u001b[0m\u001b[0mappend\u001b[0m\u001b[0;34m(\u001b[0m\u001b[0;34m\"Pellegrini\"\u001b[0m\u001b[0;34m)\u001b[0m\u001b[0;34m\u001b[0m\u001b[0;34m\u001b[0m\u001b[0m\n\u001b[0m\u001b[1;32m      8\u001b[0m \u001b[0msedes_FCEIA\u001b[0m\u001b[0;34m[\u001b[0m\u001b[0;36m1\u001b[0m\u001b[0;34m]\u001b[0m\u001b[0;34m.\u001b[0m\u001b[0mappend\u001b[0m\u001b[0;34m(\u001b[0m\u001b[0;34m\"CUR\"\u001b[0m\u001b[0;34m)\u001b[0m\u001b[0;34m\u001b[0m\u001b[0;34m\u001b[0m\u001b[0m\n\u001b[1;32m      9\u001b[0m \u001b[0mprint\u001b[0m\u001b[0;34m(\u001b[0m\u001b[0msedes_FCEIA\u001b[0m\u001b[0;34m)\u001b[0m\u001b[0;34m\u001b[0m\u001b[0;34m\u001b[0m\u001b[0m\n",
            "\u001b[0;31mAttributeError\u001b[0m: 'tuple' object has no attribute 'append'"
          ]
        }
      ]
    },
    {
      "cell_type": "markdown",
      "source": [
        "### c)\n",
        "\n",
        "```\n",
        "tuia_1er_c = [\"Lógica\", \"Mat.\", \"Entorno\", \"Prog. I\", \"Inglés\"]\n",
        "talleres = tuia_1er_c[2:4]\n",
        "asignaturas = tuia_1er_c[:2] + tuia_1er_c[-1]\n",
        "print(\"Formato taller: \", talleres)\n",
        "print(\"Formato asignatura: \", asignaturas)\n",
        "```"
      ],
      "metadata": {
        "id": "G4ELveb9o3S0"
      }
    },
    {
      "cell_type": "code",
      "source": [
        "\"\"\"\"\n",
        "El programa tiene un error, ya que intenta concatenar una lista (tuia_1er_c[:2])\n",
        "con una cadena de caracteres (tuia_1er_c[-1]), sin embargo no es posible esta\n",
        "operación para tipos de datos diferentes.\n",
        "\"\"\"\n",
        "\n",
        "tuia_1er_c = [\"Lógica\", \"Mat.\", \"Entorno\", \"Prog. I\", \"Inglés\"]\n",
        "talleres = tuia_1er_c[2:4]                      # [\"Entorno\", \"Prog. I\"]\n",
        "asignaturas = tuia_1er_c[:2] + tuia_1er_c[-1]   # [\"Lógica\", \"Mat.\"] + \"Inglés\" => No es posible esta operación\n",
        "print(\"Formato taller: \", talleres)\n",
        "print(\"Formato asignatura: \", asignaturas)"
      ],
      "metadata": {
        "id": "bkS-rA9ds4Yx",
        "colab": {
          "base_uri": "https://localhost:8080/",
          "height": 211
        },
        "outputId": "683f0f2d-99c3-4c2a-b527-d5f7eb0a3a14"
      },
      "execution_count": null,
      "outputs": [
        {
          "output_type": "error",
          "ename": "TypeError",
          "evalue": "can only concatenate list (not \"str\") to list",
          "traceback": [
            "\u001b[0;31m---------------------------------------------------------------------------\u001b[0m",
            "\u001b[0;31mTypeError\u001b[0m                                 Traceback (most recent call last)",
            "\u001b[0;32m<ipython-input-7-edc3950fda46>\u001b[0m in \u001b[0;36m<cell line: 3>\u001b[0;34m()\u001b[0m\n\u001b[1;32m      1\u001b[0m \u001b[0mtuia_1er_c\u001b[0m \u001b[0;34m=\u001b[0m \u001b[0;34m[\u001b[0m\u001b[0;34m\"Lógica\"\u001b[0m\u001b[0;34m,\u001b[0m \u001b[0;34m\"Mat.\"\u001b[0m\u001b[0;34m,\u001b[0m \u001b[0;34m\"Entorno\"\u001b[0m\u001b[0;34m,\u001b[0m \u001b[0;34m\"Prog. I\"\u001b[0m\u001b[0;34m,\u001b[0m \u001b[0;34m\"Inglés\"\u001b[0m\u001b[0;34m]\u001b[0m\u001b[0;34m\u001b[0m\u001b[0;34m\u001b[0m\u001b[0m\n\u001b[1;32m      2\u001b[0m \u001b[0mtalleres\u001b[0m \u001b[0;34m=\u001b[0m \u001b[0mtuia_1er_c\u001b[0m\u001b[0;34m[\u001b[0m\u001b[0;36m2\u001b[0m\u001b[0;34m:\u001b[0m\u001b[0;36m4\u001b[0m\u001b[0;34m]\u001b[0m\u001b[0;34m\u001b[0m\u001b[0;34m\u001b[0m\u001b[0m\n\u001b[0;32m----> 3\u001b[0;31m \u001b[0masignaturas\u001b[0m \u001b[0;34m=\u001b[0m \u001b[0mtuia_1er_c\u001b[0m\u001b[0;34m[\u001b[0m\u001b[0;34m:\u001b[0m\u001b[0;36m2\u001b[0m\u001b[0;34m]\u001b[0m \u001b[0;34m+\u001b[0m \u001b[0mtuia_1er_c\u001b[0m\u001b[0;34m[\u001b[0m\u001b[0;34m-\u001b[0m\u001b[0;36m1\u001b[0m\u001b[0;34m]\u001b[0m\u001b[0;34m\u001b[0m\u001b[0;34m\u001b[0m\u001b[0m\n\u001b[0m\u001b[1;32m      4\u001b[0m \u001b[0mprint\u001b[0m\u001b[0;34m(\u001b[0m\u001b[0;34m\"Formato taller: \"\u001b[0m\u001b[0;34m,\u001b[0m \u001b[0mtalleres\u001b[0m\u001b[0;34m)\u001b[0m\u001b[0;34m\u001b[0m\u001b[0;34m\u001b[0m\u001b[0m\n\u001b[1;32m      5\u001b[0m \u001b[0mprint\u001b[0m\u001b[0;34m(\u001b[0m\u001b[0;34m\"Formato asignatura: \"\u001b[0m\u001b[0;34m,\u001b[0m \u001b[0masignaturas\u001b[0m\u001b[0;34m)\u001b[0m\u001b[0;34m\u001b[0m\u001b[0;34m\u001b[0m\u001b[0m\n",
            "\u001b[0;31mTypeError\u001b[0m: can only concatenate list (not \"str\") to list"
          ]
        }
      ]
    },
    {
      "cell_type": "markdown",
      "source": [
        "## Ejercicio 3\n",
        "\n",
        "Escribir una función que reciba una temperatura en grados Fahrenheit y devuelva dicha temperatura expresada en grados Celcius. Si se recibe un valor menor al cero absoluto (-459,67 °F), no debe realizar la conversión, ni retornar ningún valor (`None`).\n",
        "\n",
        "Recuerde que si *F* es una temperatura en grados Fahrenheit y *C* la misma temperatura en grados Celcius, existe la siguiente relación entre ambas:\n",
        "\n",
        "*C = (F - 32) / 1,8*"
      ],
      "metadata": {
        "id": "Z_7CU_lRwCnJ"
      }
    },
    {
      "cell_type": "code",
      "source": [
        "def fahrenheit_a_celcius (temperatura_F: float):\n",
        "  \"\"\"\n",
        "  Función que recibe una temperatura en grados Fahrenheit y devuelve dicha temperatura\n",
        "  expresada en grados Celcius, siempre que la misma sea igual o mayor al cero absoluto.\n",
        "  \"\"\"\n",
        "  if temperatura_F < -459.67:\n",
        "    return None\n",
        "  else:\n",
        "    return (temperatura_F - 32) / 1.8"
      ],
      "metadata": {
        "id": "iVna5stqa4eC"
      },
      "execution_count": null,
      "outputs": []
    },
    {
      "cell_type": "markdown",
      "source": [
        "## Ejercicio 4\n",
        "Escribir una función que dadas dos listas de igual dimensión, las recorra y para cada posición almacene el elemento de la primer lista como clave de un diccionario y el elemento de la segunda lista como valor. Si hubiera valores repetidos en la primer lista, debe considerarse el último en orden de aparición.\n",
        "\n",
        "```\n",
        "# Por ejemplo, si:\n",
        "primer_lista = [\"A\",\"B\",\"A\",\"C\"]\n",
        "segunda_lista = [1, 2, 3, 4]\n",
        "# El diccionario resultante debe ser:\n",
        "diccionario_resultante = {\"A\": 3, \"B\": 2, \"C\": 4}\n",
        "```\n"
      ],
      "metadata": {
        "id": "DJcu2BJZuqtG"
      }
    },
    {
      "cell_type": "code",
      "source": [
        "def dos_listas_a_diccionario (claves: list, valores: list) -> dict:\n",
        "  \"\"\"\n",
        "  Función que recibe dos listas de igual dimensión, las recorra y para cada\n",
        "  posición almacena el elemento de la primer lista como clave de un diccionario\n",
        "  y el elemento de la segunda lista como valor.\n",
        "  Si hubiera valores repetidos en la primer lista, considera el último en orden\n",
        "  de aparición.\n",
        "  \"\"\"\n",
        "  diccionario = {}\n",
        "  for posicion in range(len(claves)):\n",
        "    diccionario[claves[posicion]] = valores[posicion]\n",
        "  return diccionario"
      ],
      "metadata": {
        "id": "FKoBiMb9cjl_"
      },
      "execution_count": null,
      "outputs": []
    },
    {
      "cell_type": "code",
      "source": [
        "# Ejemplo de invocación:\n",
        "primera_lista = [\"A\",\"B\",\"A\",\"C\"]\n",
        "segunda_lista = [1,2,3,4]\n",
        "diccionario_resultante = dos_listas_a_diccionario(primera_lista, segunda_lista)\n",
        "print(diccionario_resultante)"
      ],
      "metadata": {
        "colab": {
          "base_uri": "https://localhost:8080/"
        },
        "id": "rO0XWogPditf",
        "outputId": "9011de53-03f4-45eb-f4d4-c841dac33cb7"
      },
      "execution_count": null,
      "outputs": [
        {
          "output_type": "stream",
          "name": "stdout",
          "text": [
            "{'A': 3, 'B': 2, 'C': 4}\n"
          ]
        }
      ]
    },
    {
      "cell_type": "markdown",
      "source": [
        "## Ejercicio 5\n",
        "\n",
        "Escribir un programa que permita el ingreso de temperaturas registradas en grados Fahrenheit en diferentes barrios de la ciudad. Un ejemplo de posibles datos son los de la siguiente planilla:\n",
        "\n",
        "![image.png](data:image/png;base64,iVBORw0KGgoAAAANSUhEUgAAASgAAADqCAIAAACeMk9FAAAgAElEQVR4Ae2deSAU///HX7t2Sac+3brv+9SpU7eKDkdJkiMdVDpFKaVDSUIllcoZSkpIRZdEUUKky9FBikr4su1O8/vNnjOs227szv6zs3O83+95vubxvnbmOYCSH1IBUgGxKwBiz5HMkFSAVAAlwSMvAlKBf6AAAbzv37+rkR9SAVIBEShw/fp1PN8E8GxsbHbt2nWD/NRcASsrKz09vZofRx4hFQoEBASMHz++QvAMDQ3Pnz+P30wuV1OBs2fPGhsbV3NncjdpU+D379/NmzfHnzWhxSPBw0tTo2USvBrJ9Q92fh9ga7LW3Np2nwOhy1fzkrC+hTodst1raWpicCnxT/WOFxt4SPGHhKexxE/Mk+jHsfHvc34yq1fYRrVX9cFDin7m51X1yf9ZyGpU59/wCxu9dRitx4SHDHxJmdlpiVm/+PCUZL9//6ayT9pn3sXLTD4+FMDoZjE+uYqXxQYeKzvY8dCejYt6UikUGsw0s7bFPgf2We80nD+y77DJZi4hX5GKy1nnLfEnlimNHnnqxf/qnFI1E6g2eKUxq2RkqC3ajpu7SGeVsYnRysld5SkAzftN1l+z1lh/+eLZ4zvLA63f9Gj+9VDNIpC7VapAWfCKUg9NHzR0mur4AS2Xucdj1Rzz7SUriw3LJ7UFClBh9NL1W7dt27Zt+5ZNpkZ62ioDO9AARu15xKkQGyp4HAmYWVZ96dQ2Xa6X4CX5m3BUtRnAgDUXvv/Fr6/HZeSSWlsKgIZndj0mWmlS1Qav6KZ6+47ubwQ1ZaKNMgVgutN7vhjFKRfndO9/gyBapZk3+I2lD+0dHoitEhQuRxnwvrgtUtp6swRFkZybGoOUwvktIePlWgUayIHHb2I6rMI7m8d11z/N2bFhg8f6smcgndq2e9lrqPS5SXMZiiwcThVZr7Po87OnaUVE6UT5q7rgIVnnV225ij/t5P2TKAAzXDL44KEoGmwy82K+KMsr3rQ/uagbXxPUNeLNnJtbGfA+HJs69fALrNdVFLd6QM9r/GuFkbKxPR3kwIu/hl/cwvuGS805dXnjBI/1df9QWZCBteH/uBbkS1rnheqCx4y33er2Ec+YUPDeOa53SKtzoRpIAshvl+mwKqhhgYd8DtXp23vJRkvj6X0nW+PGapWAhzBc12k9YQ8BGiV4yGe/2UCR6Tzgxk/CpZH/7tnd0JDHyR/LhQgp/Pb5ffqXUhRFS/PT33/i8VrRehQpLfia+SbrR5kZCmZOctTNoOv3EtKxpOrzU23wUgL84widSKHglUT7Xn3PLh+r+H1sZEjo7ZdfCKqwin9lZ6R9/s0em/z6/Ob1m9xiwckW5nxIy8gtIY6imUU/vqS/yS7EkmX9+pKeXUDcLpCD9etjzJ2Q0Hux2fiSMv/37eO79FysGKXf0t/nELpirB+ZT+6EhD9+nlO2oUCS3ZZ3BNAvBx6rBItRZh5/LPu39Nf3rPfvcvmxqWWOghPBL5Vp8VAURfLf3/G7GPDoNUHZ8uAV3jnscJ8jbvI1ryR2d6Xxgcf4GGs9pXOTLp1t733mV/xI/osj61YfOHM58uG9S1ZLRinPPZ/wi6Makn3bfLpSRzrQRxpHhDhZ7D2kO1Sm58qTOcLXu+T+RV+cXD2pdxsKwAL3b3zpCxMDTBbM3nb66qPH932PrleZNvts/A/+1jovVBe88hkJBY+z29d7J9SUlMxOBjy4H7x/ydgZO71z2JLd3bt4TLeWVCqs9H9/5ciuQ07nPFz3Tu9DNfZJYXyNOWmz39HN69xe7X49Oh19wj5HpDBg09yhnZpRZMDQ2dty41bb4y6Oe8xmjxux5vxjNom8ciFFEbZaY2fqnrr+4J7/8SXjelqFpv9F0S+Bu2cO6SILMMo6MvjYDps9JkPkYVVAJlYcpPTBUdMNts6BEY/DPQ7MH9HX+GwUlz5mhvd2Q7UJ/ZpRoNfkJVpaWlpLNS++wki7u0ddqWsrKgWmO73FEmGk2i+Z1qsFlUKHgynYpV3LHHnnUf67PHjl98HWlAOvNGbfwu038aMDbCKmgc5qcs4JG+PJUpp10rfBpjQPHLC1XL9idOfmIzTWhWURTuTVgSmtenZ3esGp/JBA3W6yfWc84rVrKIreNulD79lfe8+V36wvjtPad1C1+MCuritaz/rgNgYHHuudv2ozMA7+ytc6N3Btx9bglsavbvlbardQ/+CVvHAeC7Dy6idu9fTrwQo5UD/3mvOTleo8AmD0/NXub7inkHJgikzbifoWVtypXKTUZapss9lb+fNLjEe7ugJ0Ubfmn3Thk0PDAOY4P+OrEH9genPF3te+cRvPnzfM2jUH90z2z5J44+bQe6zK3sgfzNeXVORg3qlEBEVZqc6jANQduW3Cj+vr2wJseSBoDxmx+3oLbfHSTo3CZpXY4LFV/+SsCsAFD1tR2xyFhrBm4NFl9Y86Oh53OLJvx5yeMGBr4wOv3ORKybcwG7XOHRRXn+fViyia7q7fpRVYRXFRK/BaTgWwiBF0dJ7uHEWlgNVT/hXC1bai9eg3v+kC8FiXtTrTek97jD+akbqpE3TUcaynVq++wUP+d3buf/TeEx/xZ9tQ1GNBK7kJBu/YNQ6S4zUZoIvReb5GxZf1qACLL/FBQ2+u6kbrO4MzJsEq6fjD/QB0AgRIoCjLU70dtTV4ZmNoIdmBqgB9NlwV6PQrRA1A2Y49CcF8t6M7jTZ4QRyXSm4IWBlXl7SFETtvcI/6fWM+wKDtYfyatSLwkGzPyUTwir10CODVNsf6AA92h0RE3L19w+/C9untBm+RAPCwCDMua3alUkHHF+vGCD4II/PZ7QBP9xNrpshTYGsU/6JCMcDkwa/s+KHC9QTwiu5qAcjONM8V5IQtnZ8tT/2vXSChp0Xcowa/6hu832ELAeijNP1v8T8RLsv6yLQfEMoeAnHAm3IshT9OKw5YRQeweioQ7ZZRD1r3Cfd56HLA071CGNFwGpklHpg2BX4rZQGUNnjxs7wVckm7I3Q0cMPSwDCAFhqHcB0RgkBFWQmh/t5nT5iPpkG/zderBo9dd+BbPGHg1SZHQrF4P2rW4uFmNVmvnVbskAzwUPQ3O8Zyk9dkci6cks9XLJcqDR2mY+kY+uxtpr9JS4Dt0YJr6OnOUTIdBwn+bOGpWdF6PHjIx4uTAOQX2QiSYx/updaSIgtOWby06vRdz+AhHy8oA8hOM4l6Rrj952lSBocbDniEq5YN3h5udx07meqAV3zVUBZgwuHnCIpmnZgLACr77hOyjH2S9LkAS44NXmcjd0F7yFMs7eqBhSMHTly20S0k+n3mrWUA/XF9swpbvOqBV4sceeUifNcaPLQk9qLnM2Iz3wjGeOW6mmw1igON5QDoSktTWCiKFHlr9aC1hdOp3Mq0JNi0BQc8FpPJJhMDrKtSJK/y5ita0Xo8eGjhrcUAcnO25vEPwxb+uqo0obQCP3zPi7BDjX7UM3ho0R1NAFmV9YKOI7E49QVelhM2rNLwxFq8oqtG8sS/8gl5ssHrvtanDHhfLht1AJh3Mo4bnJIHulzwWEx2q0cAj/Hi1OlbnMaw/Cn8vKhVrqsJtciRUGzej9qDx0sB/93wJ1eEg3drdT8KQG+zAAaKclqkHut9+RH9fVmPjoHHLL5msSsSO9+KAKtoPQE8pNRrUScZxaHh/HlqbEY8YY0CtNM4/I3Q2cVrW6Pl+gYPZfkv7SLToVcwoXf9N8rTDauqsPstsDFeLVq85fgxHvI/tzn/ybSj+X5lJ5p/dykVOq08TeiMFj738ovBNgsFDyl0GC8r033cPX6dWBiqzgGvJNzCEisqM+HoQADdq+xUS+5a7w3i9kLzLs8AmHQ0id9bjt81hkrFTa7UNkehkZMm8JhvtnWjUVu3DSJ08v4kuRv3Amg+eHowO95I5qXJAIr6p7ltD/LzgtFYRRqsDf/zw9N8TzQm48ONg2U6DOYMb/CyVrQe+XxpIsDcM585OzPfXJ4rD7Od2bfksVdlXVretj24vebDjk+1Fsu1B+/JtuEUgPGHsM4e/oN8vLW8I0y0ucsfhBY+O2F6NJJTYiTj3DjiVVvgrVtmRur6CkUZxeG3eUhwxng99E5/5dU1BVH7BwIsPPuC34/K8l/boynsf8qfckJij+gfi2fHj5Fs1gE6GbLHe/yCIr+OKzeT6TTgBrs3iqJopsfmYe2gq4kH49eVrbvZ++XdWAAw8Qh7CjTFyfoC+08IrO6LM2qCm8v5Fb9zTGdZGm4KrdY58ouHW6gueFipaCALp9gTTrgECIsNtcVjvju1evniaYNa0Wg0usxAlUVaWtra2ks11GYpKw0eqDR5/TGv1F/8cCMvzqxRUmy9wOp0gL+P875tpx9l+OoPUBwxb6W5XXLW3R3qs/q1otPo1L5TFi5ba5vEPg7JFr4eRdFHditmDFWUpck07zZEfcvJj+wruuhVkNnM0fNMdru4ulgaa8xcoOP7inexECSt3Y8ag/cp0GaZ9jKtBZO7NaNjIil0mrxgiZbWXJtQzn91WDFK0+/vWjBmso65w6mTuzeuMd1/Pot97pEHdGYN7yxLo8l17DNba9OjwjTnVUvGdm1Bp0PbIVO1d1/MeXvNTH167xaYaP2nzTT3wqYlOeDN3HDEzMzC0eOKl/2Wucpjtl6OLzNZ8iHYTm30yOUWR0857tu41tD2WioLRb8E7V84ZbACjUZv1WHq4iXr3Lj3CmMd1Jc+K0Z0GjB/07mAAA+X/danIlMCTHu17bVopZ57MlfMhJM6vfsM333mnJXJmjDefxUoimYEbBvZu+/m05ev+pzdbWrud8a4KUDLPkqLd/m+qluO5aNYNXiMRPsVy9SV+zbH4gHthkxbrK256njZaRVOyg0VvPLnLeFragxe9fVg/f6SlJD4UfD0SvUPJezJAW8pNqhl5r1LTvtaXKaNxe/9O+tVQkp6AX9qEr9N2HLhl7QXiW8KeHUpq7igqMyxpT/eJr7MJvRi2QkxCjOTY+PSvmKDjh9ZSa9eZ37NL+GlIywr7rqqcyQeXDV4xP0r/0WCV7k+YtsqQvDq6xw44On4189sUn2VSmzpkOCJTWpxZtQIwGM82dsDQMu3HjvY4lS4rnmR4NVVwQZ5fMMGDykMtFg2fQB2/2rTHqMWGe9LrEZfrkHqXPtCkeDVXrsGfGTDBq8BCye2okVvHSbTfthB/4AbT+uWJ1LwIjTQ38moR0O0fqjbqTXCo0nwGnrQij6/fhEfHx//PDGjjkUtzUpOwFJ68SJLMDNfeZpi81ypvBgSuJUETwKDWn+nVAV4cXFxNBpNlvzUXAEa+1Pz48gjpEIBOp1uacm+j4cHc1lfTVdX11LyU3MFTp06ZWBgUPPjyCOkQoHv3783a9aMBx32XRY80kkar071l8muZvW1ksI9q+hqisBJGvmfl36/PQ/L37CAGX98Srgfes3f45zrA+ID6Y0wMiR4jTBo4iuy2MFDPnqrAPRY58O7Uxd3rkhJlNseg8ndaVRYf7fMDYO43RrHonSDV5Id5rhVT0d/jamZ2Q6be9ll7hZD0aLsYBvN9ZcELg+NI6r1Vkqxg5fhPJ8OINNjbGQFZHFupxAReGL0UZVe8JC8OMvxXWftuZKN3fqJvHRdPmS2OcefAkV+hx1ar6+jvXj2qDbCnsCotwu7oSckZvBYP44t1jFZ0pFCBaNgrmtYGYk4NxCKCDwx+qhKK3is/PML2vdYdeYH51Gj0jgjWapM55F3uD0cVv6Xj3lFTNZbzNeo/KNPZS4Gyf0pXvBY785orPHMDV7XGqCDrpPQm3NFCJ5YfVSlFLyC0E0dAHY8ETxwmR179fKDN2XuSGO9IcET42u6Uuzmm4X9RoserqDKUNu2v0K0r+VUb3jwGHmZaek5Qh9WqdjrFkVL8l9F3QoKDn+e+Yv548OHPE7QK/RR5eRb8jXtfvC1m/divwiumbpUuNIJHstDra1Mp6Fh+Ef7halIgifG9+OxPu9XU4lgD+1urupBpcBSX4GtJT86HPCM3YIOWFjZu15wP7Fn6YyJphef8B0PKvG6RVE0796xlYbbz16LfPEy/tqJbVMVQS+wGK3YRxXLt/CDu4maxlaH4EdP7lx2MVAZaXjmAf8pb37BarggleCVPF6JGefoxyUFHztod3CvlYnByhP30ss0d9j8Ndniie3FlMwk+0UbLnO6+iV3t3QAaL34IN9RgH9Zc8DrvuzYJ95Tmax0vzkUmOvCdVmtzOuW+c5iADh8EMyhJdkqGwZy/7ogeOzw82PlnlFt18vwPL/1Rb5F6DSH+a7Py18u/IOqsSCN4CFZ7hMxD8KZG6zdc9jhY324PEce9P3e8ILJVY4ET3wtXvxulS33eVOZJc9NWspQFMAjt+zlzQFv+RXCADDEoIcMz2W1Mq/bksilALPsIrkjexRlPD19mmdALRS8vADj1gBbHhH6l4+3DJVp3/lKnd7OI43gsVKdRgBQ5MERV/cF6XamKQ64QZxKI8ETF3jMtztG9DN1dOF9zqwZq0ChgNp5ntENrxHhgFfGZfW72yIA4LiscncU6nWLlF7V708DaKbYR2Xxip0nvJJ/CFo/oeD5a7an0ME1h8D/b4+lAKB7hXix8EpYvW9pBA/Jcp8AQOtLsOhOPTQVAJb5EbwUSfDEBB4jdt+8lcdDw/mWxLdvnjTsCtBSdWcO8UIWCl4J23WT47KKVu51yyp4ftlhvebsIZ1ayFBArmdPj7dc9oSAh3nRyVGagA/xRppiv5VUgGmOaTz3LWIRq/VLGsFDi8OXANBH66Tiepaf2EadY/bH4NaRYzxx/Z3wcIvyrlhCdw5lpG5WpFOawZmPhNZGKHjfz2uw3+eai/6t1OuW8fb2XX7Q/6Tfv7i8L7XjChdOt5UAHs9H1XtRG5CFs4KXCGFU5Z1bAgDavuVHoNVijr2TVILHyrEZRKMNVovDmSSmO8zG7KhPEGoxssUTS4tX+mKDqqbAwpJ39cbvGksFmOHMfd8NZzUHPOKbNNBI0wEybeR9cpAqvG5DwzQnr8QP5H8HGrcZu/Itu7IV6qP61VdfAcAkjNDkRazrL9OmiQ/H1JVX2hp+SyV4KBpvNYbaEvBVVsyOkVQq7MU5yZOzmigqjhYPSTmt3XWW4O1Q/CuYEbOvJ0ATZWM8Khzwhq0TuKwyP/iryoG6GzbNWKnX7eY9kdibPdbijCi/nNMYYebPbWqF+qgyc07PVWw3axv/L17kY9ACOixwLV9R8AtenQUpBQ/JuqKKvaKIN3RnZdsMhs5a9tnEXjvzud0AgOG7IvD9z+rIKin7iBi8knv2c0b2bon5gdIUR07xSudNdbCyL65dPKlvO+xpUbpMz3FzNEyPvGZ3OZnxR+bonkqKdDbfstv5kt95OwutmZPMveN486GVeN0eTvkVpqE43sTceNM+J9+r184d3m6wblfMT0FXVriPalGG54Z5ynNX7Hc+e9xq/cIZkzd7PyO0gLWJtpSCh71BMsR6bP/+Vj6Rz2Lvu66ZMmSuWTQuBHdt9ZZpLZnQQ4HONsOdrK65bMWme4Q57NrI3diOETF4dZPj78+MV2k5hUIqRaTkc+rzxPR8HlJ/i3//xphGin78xIYXJd8yEl8kZOTzaMWXoyIf1aLvrxPiXwvNDn94dZelFzysJ5n3Nsz7rJOTi//DNP6dD9VVTir2a9DgNeoISDV4jTpyYik8CZ6oZCbBE5WyEpEuCZ6owkiCJyplJSJdEjxRhZEET1TKSkS6JHiiCiMJnqiUlYh0SfBEFUYSPFEpKxHpVgHepk2bPD09JeJMxX0Sly5d2rx5s7hzJfNrJAoUFhYOGTIEX1jSVxOvRu2XyRav9tpJwZFVtHgi8NWUAlHZp0iCJy2RrtV5ihg8JOem/nTdqKocOGpV9AZ+EAleAw/Qvy2eiMHLOq1OAzC9W+c7H+tDpdIXF9SH99Z2eSDES7c+0iemIa3gMVLtli7caOviHxLx+NG9wEtn9q6Zv/PaJ9w90n/Tb5/aoL/KZJ2pod5yu5BX0lgti/bpBOTX8YktqBTouc6X+Cge8RIV1688bz15zOjFFv+YncgsbqUVvNKYVTI04H0osjB9lw/Hf4Ud5z/RB+d2Gjw9/Ct2ay3r853lnUDzYpKQ23HFdVX8o3xE2eKx0s9p6pguakuR6TwopEHcKvsn/dnjDKJ/mMgsbqUWvCcm0xfbH7PZvt3SyTPoWSbBPqMwYkc3gIUXeA8NoWianYpM+25X+be7/yMOxJ6tKMF7e0xt/c2iq7pdKBTQu0qw3BD7eVaQoQgtbqUXvLXLNn3G9Szx0l9Z2oFCgwOveE+HoSjjkVUXgIUX8X1R/BGSuiw68Fg5BxdOC/8fWnjTrA1Au2UOBUI0RAq/fX6f/gXr5Zfmp7//xHuMp6L1nCSYOclRN4Ou30tIr9nwAGH+/Jr1Lusb76qowuIWLfmRdD8k6Obtl59rMUYlwSsXb9a3A8NlQRZOfuY9zoWirBTHYQCKRufFMvAuV6R/tkJk4LFSTiwy9cGGdkVP9Oky1P+a+RHd8pDs2+bTlTrSgT7SOCLEyWLvId2hMj1XnswRvt4ll41LYWKAyYLZ205fffT4vu/R9SrTZp+Nx4ZssY6rpg7sotCqpULnXqo2fhjArO9nlwxq26rVf9066rnFlSZ56CoPbEWBJvMtsSqgcotblPXywib1JSauwQ+j7lw7YjhDxeDAC2IftaqQSTN4Fq+e+tnZ2NrutdhsaXvvI2+AjxQ7jG8CdHDMwIN3YhiArIpZdlWCStZ2kYGXsG+meQS3obhl1ItKAQ0vIdreNulD79lfe8+V36wvjtPad1C1+MAeaAtdz3rnr9oMjIMF/tO5gWs7tga3NOzhV+TjzUWy0FrTTtC0lkQbDO/lncELPOvH4ZEUOQ547DAS7I9wgX17VrtD92Eh/EkYpDRgebeOqrvfCi4Y3N7CF6UXPONB3bZ4P+VUU9nXzXq1A5dEblcm1mIUlQIWMbyIoGhJiJkC5oGr/aoG2gpXvFGtFRF4zHSr+bMf8noPJfcsFAFaL7T5Xk6bpzuxSFg9xblSsfcRtp51WaszrTfBsxFlpG7qBB11HDmMPNk+ktoSPHgmmcyX9mvtn+FmzJinpspUDV7+bS2AvuZBgoEIijJibHoB6PoLqTvKnRNnhbSCh/xKfvlWEE5mhmVvaDFtA8dvCjMFBxh/kB+Uv9fNlf7DHAGXv8bFqQJJJWm1aMBjxh0ao7zixEmee63jljEyFEpLuMBDgi8hBpg8+JWb8xSyvuiuFoDsTPNc/sHshfOz5an/tQtkV7CsN25jAaY6JHKCeHuHtscXfEVaLfCKAo2bAsw6JZh5w/IpDFIFaKNzvNqjPWkFjxgdFEUDtNtTaGCbzN2QHbZvQt9utnfeFBTmRbtb25zcpwzQVNWyQU6+lTuZelshGvCid8wwcL3JN6+9deuuy7J+VIB5bum8iQ3uGTzdOUqm46BwXtvIP6/y6znGfvKLbATdFPbeXmotKbLglMX+gZScU21NH7IQ83XMC92w2Y1oolMt8LLYBqxLvIiHFmP+ZbJT133iF7GKBSkFL+uB5/ngePxwOGJdPwqAXqBAL1be25sXnB2cXMNfFzBeHh0IMNjiFr5/IdhVYpdEAR4jefO8Jdw3jPCE4zj5NZ+9vcxEMwZYV6VIoeCVWV94azGA3JytxKrxr6tKE0or8ONhUhC8oS3A6pCiD6cN9j7mzZJyi1EpeDyL29/+q+QA5p75zCs7+zs/YCaAgubhcm0zYS/cD6kEr+SxHlApTeAs7pUYt4x6Uqmw7g5OG9xiQYCBPID5gzKRwu0hmYsiAK/0wU71XbfL9tiZ6ZZ9ZClN4WQmvu+H1gA8pNRrUScZxaHh+P8QShPWKEA7jcP8vwhQxmvzzvDfQusda9eUGzaUBU+oxS2SG7oIoIvxBXxtUPpgZ2cALa+PZVrsiq8KqQSPkbZtbF9Dh6CvfJkQhssUeWr7zoHsP9KRj7fN54wx8xNE5vrKrk3HGaQSLoqKRZWcLfUOXvHnk6ow9/R7vvJ8rR5vHUoFmHgkDs/kw42DZToMDsWzxD5A6Hrmm8tz5WG2s8BqNuvS8rbtwe21YDCPomiKnYoMBdTcypUBKT4+nkpoM4Va3KJo2hmt9gpwkp8sUuC+oIPifGu+6S3/pCpekErwUDTBbumWEEH1xHp3YRLA1KOPOREqvbulPcAwq1BOx7Ig5qiSPFhHE+5uqVhSSdpSr+DdsV44untrzKi0WbNRBkcyeYSx3lxbO296XwU6tqlFu/HzVM0uPPvz9e4O9Vn9WtFpdGrfKQuXrbVNYld7SLbw9RzVi14Fmc0cPc9kt4uri6WxxswFOr6vBH8fcPZBsgNUu/S9RowmI/qkpopSezqd3rz1ODWdK5ncKAq3uEVZyV4Ws8ZPXrPPyfX4XuOF09TMnVOrPa/CTlpKwUMZX7w2aBjZnL39JPaOt4PmsLZz9wZy/oPFZClOPaClts8rJDomyv/4RuV+HXcEc+Y7ueGQmq96BU9sqhXlvE1ISPpaLLyDgnz0Mdt9Hd9RrKJgFVncoqU5aQkJrz/9j1eDVJEOYbO0gscWITfl8VV310vXI1Jzy1VXrMKXIV4nT5w4H3DrPW9kTlBOKn40TvDKh4aV8zLsfiJn5uPlEf3jKf98kkyqwSsfIHINUQFJAe/O2r4UGjims5Cvt3bsPJtXfohJPG/R/yLBE73GjTgHSQEv75aV8jRDd183y41bInBz2f8uNCR4/077RpCzpICHvagkJ+1ZwtsC4eM+8YeCBE/8mjeiHCUIvAamOgleAwtIwyoOCZ6o4kGCJyplJSLdKsDbvn27t7e3RJypuE/C09PTwsJC3LmS+TUSBQoLC5WVlfGFJQ1t8WrUfpls8WqvnRQcWUWLRxra1voaIMGrtXTScGA9gZf3LlePgPgAACAASURBVP5pLOHzNC7lR21u+KhQ9E+PfA5ZbDQ2Mt525FxcLhNlfQvyvPr93/9fV1GBSfAqUoZcj6L15auZdPXYAWvzqR1lKQAtBs3cuHvfgaMXUuprZp+Z62moPHmV7f3MX0xG4fvoK9s01HdsXdJJ2YDjE9EgIynd4JVkhzlu1dPRX2NqZrbD5l424UaijDCndXp663fs2WO5xYE0tOVevnUY490zG0gFmH++zDPideXinfP8dpPXvMO3n6Uf7ZRby9YfeCKwtZVe8JC8OMvxXWftuZKNhQx56bp8yGxzfvheu2r1UV4R/ZNdKxdnHJzYTPXE4xrcWFvXq6mBHF9PXU3O2USZD6YCLPIo+7hAnc4V+XV0LAyxLPuAX+njPf0n1FuLJwJbW2kFj5V/fkH7HqvO/OCMAkrjjGSpMp1H3mGzhWQHqgKYhAmukKKwTe1pcCqd0CTW6YJpHAc3fPAYb7Z2gTaadj/LCFr6dN2S1fXT1RSJra2UglcQuqkDwI4nAoOO7Nirlx9wn2TMdFKlUuAsvkv0I3AOwLTjKfgOTZlQS+LPfwIeq/BtTGRo+P1X2YKar0JxkVLXGZiripF/KuFxV6QkOiKizPG/PsTdDQm+l5BZ7sHaCpNH0UptbWtUVEIm0gkey0OtrUynoWEVBMBn8X8y7XoG47eWRK8EaLnkQLnHhwhqStwPsYOX98jF1Gy329W7D8MDLOcPn2h0kPswT8XS/ri1vTtQKFToNXnRpv2OgY+SfpQbEyC5cfsXjJxtan/9wWO/A8snTF9xKxtBGUlHtOcr9Wir0EpBoSvYYxZI6A3jQa1btVJopzh8huHD4gzv7YZqE/o1o0CvyUu0tLS0lmpefMUFvBZFxZ2EVIJX8nglAF1JPy4p+NhBu4N7rUwMVp64l86dZcOcpOkyPcbex4evNGFNS6CP1U2TriZPzOCxcvYNk+ujtu0lJxQ/7y+nQ3/zQEG/BHfl4hdTPDaNbIFNmXI+9NYKOvYhgueaSz7sU5LtuuIU79+Fv9f0urRbsIfjQMDKDFveERTUrHPYow5GlPWo8VoBqYIH1IXb2ta2qLxiSyN4SJb7RMydduYGa3fOG4JYHy7PkQd9vzcYVsz0nT1ptD5To/BdF0bi+jYytIGqZdyxeDJK6re4wcs/t7hXu+GLo3l13gXVZvSBc8v52QqTu/jrYx/nbSvVRyo2p1IAqDDR9i6nz/LlwlJ5gE04p6qfPitkAY6+4Q7ZC2PsRwDMdXnKKM04sXpVGPG5oQrAq0NRseJLI3isVKcRABR5cPwgmCwJ0u1MUxxw4xeKMlI3K8rQ+paxJE4ybSdD6z8rBk+jsPhL1jrxgIcUPo95ju/YI0U5T0Ovep51Wz26Jb3v9Ogaic4qTrlhP7ONLLU11zTaS/0/oMGmy2E8J8/wkJNGXQCMbgoGDikui1rLKs7XXugQV9ZvQDh4vDjXtqjSCB6S5T4BoAxaqYemAsAyvzyU9d6iF12m5wS+xTimMSPJtB2VPkIzsb7+9eUFrmF/iwe80qfbtjhy+pMlb8It1ccMmzjf6kxg3Lt8H51OtL6V1nasj16XgsqD+dV3VWuAFYHFKFJ4bFwTkAXbh4RbZ2Kfxn/Bm2AiBS7TFGhdugdkl41wReDVuKiEUEsjeGhx+BLMj10nFTdg+8Q2CB6zPwb5W+gwXo7aYQDBVK401oAG9EnGGbhDCEJK5g+xgMdKdzPYcZ2Jokh2mGZTaK+6M43X1bymywWPxfwjXHlG0tZlxuwhAjEC3/ymY/Uo1nxd1mhHoYML7uVPxF2xXz8e2hlanDQbIdt+rmUZlz4CeDxb29oUlZCrVILHyrEZRKMNVmNPY3HlSHeYDQAqJ9L+omjIqu5UefDG9zmK72gAdFzlyrsiCCJK7g+xgJdoO26mPfZHDccd3SxCYBvsuaAVvR/W4gVs1xX+bnJG8saesP9l2fkX1gfsNQlH07CxRN5Vk/8AVl0XzJdgLzuI9vTnzU+yPlwzMdjz+g/KSL00DWDcnnBBHxRFhdra1qaohMtEKsFD0XirMdSW4Mt/0RKKxuwYSaXC3hdYr6UgcHULgD3sZY5azFeOQwGW+uL/2iPoKKE/6hW8cONeVAC1C3iTddZr/23DZED7MvaXW4bzPBqAQRB3ByQr0HhwN3rnkXdK/7qb68aW71BiY4Bksw6UFkrqt3ME43UU/Ru1Xan70uPciU3kp+/y/q0n6MXxPfsL0w6v28SJb8FLP91BYPeae3jGuaUtAVYH4d7iIMzWtjZFJVwjUgoeknVFFWDxJd4rX1jZNoOhs5Z9NudGluJXW3rAaJsofnc/6cDkFqOWxUtZe1dvN0lHHTPQVp/aoxmdRqO27D1mkZaWlsYSVZWJI3q2laPTaHKw5SG7ySr6cHqFctf+o3ed8/fzOGOz+2BUSphel5YjF2pvPl/BtBYjeWNf2BcaeXi1pv42u4tXQsJv+B42nDJk1upH+Bdnl+be2K05dpL6zmOujtab15qaB2UwkdyIrdNHK8rTaXQYuiMQI4+Z6aDSTQ6z3FUYrjLe9i63ZhZia1uLopLgsRX4EmI9tn9/K5/IZ7H3XddMGTLXjHtnJntrcaKX1vD+5r7RX/LzX16xnj15hl+60BqXoKbE/ajXFq+a6iCFuSkvnqf/4rVgrP/9LqpYeuTn89hX7BnRvzmJEd6uzg6OzpcjkwqEPhDEKslMfp7yMZ+XdDVLxN5NmK1tzYpKyE1KWzyOBqy8t2HeZ52cXPwfpuFnuLgKleS/vHPllOMJj5sxubUJFUHoxvnjX4DXOJWqaamlGryaiiV9+5PgiSrmJHiiUlYi0iXBE1UYSfBEpaxEpEuCJ6owkuCJSlmJSJcET1RhJMETlbISkS4JnqjCSIInKmUlIt0qwLO0tPTx8ZGIMxX3SXh7e1tZWYk7VzK/RqJAYWHhjBkz8IWtg9kRPhmpXyZbPKm/BCoToIoWjzS0rUy8SreR4FUqj7RvJMET1RVAgicqZSUiXRI8UYWRBE9UykpEuiR4ogojCZ6olJWIdEnwRBVGEjxRKSsR6ZLgiSqMJHiiUlYi0iXBE1UYSfBEpaxEpEuCJ6owkuCJSlmJSJcET1RhJMETlbISkS4JnqjCSIInKmUlIl0SPFGFkQRPVMpKRLokeKIKIwmeqJSViHRJ8EQVRhI8USkrEek2ZPCKs5Nff+EbMBLkrmQT+icrOen7v/eukjLwahuR4o/Jad8q9pgjRF2SfjRY8Fg5R8a1otJhx+NycleyCUVTjs1pAjBwW/C/Rk+awKttRFivzykD0AfMfSJ16DVY8JBiP/3BHfsOOPu6HHiVbELR7Csb+rQBrTNxwt/EUC4xka2QJvBqGxEk57Z+t//6a+4R8m4MkQWmYSTcYMFrGPLUoRTSBF4dZJLWQ0nwRBV5EjxRKSsR6ZLgiSqMJHiiUlYi0iXBE1UYSfBEpaxEpEuCJ6owkuCJSlmJSJcET1RhJMETlbISkS4JnqjCSIInKmUlIt0qwLOysrp8+bJEnKm4T8LHx2f37t3izpXMr5EoUFhYOHv2bHxhSUNbvBq1XyZbvNprJwVHVtHikYa2tb4GSPBqLZ00HCh68H5lJD6NZX+exrz++r8KRS35/iqOt+PLt4UV7tdYNpDgNZZI/ZNyih68DyGuB/bunNf7P3k5aDpl3YcK7qF8dVy9NVAo8k3VN1kfOh34sYLd6iJS6YsL6sN7a7s8YNQlleoeK63gMVLtli7caOviHxLx+NG9wEtn9q6Zv/PaJ9wr6/9mRbpZbt6+bbO5mYnRPr+nv3Dbqqtuo99P9OBxJEo9YqS5eCSVCjYvhd2Izkw7Zm26oCXITlmbVS9hKI07an+tTE553nryAK0X2/4QR9ikFbzSmFUyNOB9KLIwfZdPDq4afXHCYM3pBz84a0rzbmyaNNbUM69egi6OsNZXHuIC752DvrW/81iA/luCy/CAomjJQ/sjwcFaALIqZtn1cWrI54tLVrmUa9n+pD97nCGmXqzUgvfEZPpi+2M227dbOnkGPcv8hY8nkntt8WyTDByHKCN1U2849u5fP8WFL6U4lsUHnt7ep/knp7WidR0WXlz2zG4c2BFbcLcewctyXdhdrzx4ZfMV5W/pBW/tsk2fK2jBGFG7evae+rAIJzxScmIqbI8uwa2ShkVxghf3N9dbrymAjl8uXlrk241DztGs0grAYxW+jYkMDb//KrsAfxS2zPzft4/v0nMxjku/pb/P+c3ZoeiVn1pLaFcePIT582vWu6xv/KuCVfwrOyPt82/sMXfmr8/v3n8qEv7Ee9mcq/GbBE+ISKx3buMBus0zf5jD7few0r3njJj5sFxdLORgiVolPvBW2sT9QX8/0KWCwvxdX3Eifrq059x7JloSUb7Fy3vkYmq22+3q3YfhAZbzh080OpjIqyy/BO6eOaSLLMAo68jgYzts9pgMkYdVAV8Tfa311Kb2bApyPcdoamtpaS00c49hoSgz0UNXeWArCjSZb8kh+O7exWO6taRSYWVA+o3jNkecz3uc3j21J6y8+KJ8ZxhX3mouSjN4Fq+e+tnZ2NrutdhsaXvvI741YwabDKYB0Nu3N/OK+5n1YKvalBNP86qpqQTtJmbwUDRi/QCqHJz4wOvTs3JPHzic8xdFSyK0y4zxWDn7hsn1Udv2ktMK/by/nA79zQMFYSyJN24Ovceq7I38wXx9SUUO5p1KxIYPjNfmnYW1eKwfh0dS5HjgoSjKSnUeATBaba0nrzwvdo+TadM9iId3HSItveAZD+q2xfspZyidfd2sVztwScT9jcT46mc6pQ2FAhS6fDvYH1uuI1MH0RvPoeIDT39fPNaQMOMP9wcYbRPFoYmZdMruCrv9EwJe/rnFvdoNXxzNmyS5oNqMPnDuU357xHy3ozuNNnhBXJn+YUXgocxTU2Xw4CE5XpMBOhud58NccEkbAOzf8+qF2kdSWsFDfiW/fMsPEcrMsOwNLaZteMubUEF+JJ9av9Ro+y6tQa2pADKtwdQ/qUwAa696ozlS7OChrOz9w+Ro/efEsIMTdWxnOKduLLlXtsXjiYgU5TwNvep51m316Jb0vtOj+VHFwIMWGodw1Sn7mBqCN/EIu51kH1rspQMAB1NI8Hjq1/k7QLs9hQa2yeyEfr3cpdxp7fV0DMOirICd6l1kKJSmYBXFHZ/XObfGkoD4wUPRzJMLZAHW3ipAi6Pt7Hn/LpRELi3T1UTRkjfhlupjhk2cb3UmMO5dvo9OJ1rfWRxiMYHZ4HU2cueTyFW9huBNd3rLn24hwavjlZv1wPN8cDz+L5uIdf0oAHqBWMLPrcf0X+OF78h/j3KcIgdtlh7Dr6xjGRrD4eIDb9V+3pwFkntjAUAHHdes6wedE3jUlAMPyQ7TbArtVXem8bqa13S54LGYf7Aqkw1e97U+vCR4ghPBe3Tq4DNuCsK7miR4POHq/F3yWA+olCZwNlfQebxl1JNKhXV3UJT1024sGAaXncHMPLmg2WjdNF5ftM6FaBQJiA88A1s+Yyh6RacrtcWoRRbW7/hylwMvy0kVAMwiBB1JzwWt6P2wFi9guy5231dF4DHTLXtDa53jHNwCdxk95qJJgifii5KRtm1sX0OHoK/8LgTCcJkiT23fOfAXiiKlLlNB/cLnMoUoCjTqsnC/WG4nKpPzP/wpHvCQ//npdF7iLnBPLIncoQgw57Sgj4f+DlEDoE8w4KOY4TyPBmAQxJ1rRrICjQd3o3ceeaf0r7u5buwfFGUkm3WAToZuvBaRryPrwvzWssoG2H2hrE/2VvtyOdcBUnx8PFVuzlb+7DWScW4cwKSjSXz8889r/P/dTsLva+MnX60FKZ1cSbBbuiXkI5871rsLkwCmHuVWfdl+Rj2Gz3vwQ9Aeoqx8N/VOG+98q5aokrOT6MF77qQ3vl/npjQaXb5F3zEDj3LuUWC+tZ414WoeFgAk94H1smXzlbo1odHosvShsxbrbLRPY6Fo0YfTK5S79h+965y/n8cZm90Ho1LC9Lq0HLlQe/P555k39i+cMliBRqO36jB18ZJ1bo9wwURLEj3VurWYt+vMqV0r94Zg91Ewok9qqii1p9PpzVuPU9O5kolGHtCZNbyzLI0m17HPbK1NjwpTT+gtHtOlGZ0ObQcpa1hfrNsNhFIKHsr44rVBw8jm7O0nsXe8HTSHtZ27N5Bb8WHY/Ik9aaKiom5z8Ub0s2cRAa5bV2pZ+j0vV3VKDmEVnInowasg4+quRgpzU148T//Fm2Zk/e93UdkxXQVpsXLfvUz58q+my6QVPHYwclMeX3V3vXQ9IpV9X1GZACE/Mx4Eep1yPukT8iir7IivzL6S+rPBg9dohZdq8Bpt1MRWcBI8UUlNgicqZSUiXRI8UYWRBE9UykpEuiR4ogojCZ6olJWIdEnwRBVGEjxRKSsR6ZLgiSqMJHiiUlYi0q0CPEtLS19fX4k4U3GfhLe3965du8SdK5lfI1GgsLBw5syZ+MKShrZ4NWq/TLZ4tddOCo6sosUjDW1rfQ2Q4NVaOmk4sJ7Ay3sXzzWj5XjXxsY+jUvhWrjVk4yfHvkcsthobGS87ci5uFwmyvoW5Hn1O/+mwHrKpf6SIcGrPy0lMKV6Ai/p6rED1uZTO8pSAFoMmrlx974DRy+k4O+erIt2zFxPQ+XJq2zvZ/5iMgrfR1/ZpqG+Y+uSTpzboOuSsgiPlVbwqmFom3771Ab9VSbrTA31ltuFvCoVYRQabNL1BB7n/O6ZDaQCzD9PMBGr+6m/c57fbvIa/lMLWIKlH+2Uec8f1D0DFC19aO/wQPD8UX0kKa3gVWFo+yf64NxOg6eHf8VuvmV9vrO8E2heFDwdUh/KN4o06hW8KPPBVIBFHvVqX4P8OjoWhlje5j+5w9G19PGe/hPYD/7Uh86fXNSNr9Xv7bpSC15lhraFETu6ASy8kMkfIqTZqci073Y1v756R/VxNYgjjYYPHuPN1i7QRtPuZxk5Sp+uW7K6ojcxlNm3ip/Ib5fpsCqIBK8Knaq1ufRJJYa2V5Z2oNDgwCvesyYoynhk1QVg4UX8yxWqlU8j3+mfgFeJR215OZFS1xktKbJg5J9KeBwIKYmOiCjTtv76EHc3JPheQmZNhg1IstvyjgD6QsGrUVEJhZfeFq9C8FjfDgyXBVk4+VnQvrFSHIcBKBqdl7JH8sQOXiUetYTrFvfjx63t3YFCoUKvyYs27XcMfJT0o1yUkNy4/QtGzja1v/7gsd+B5ROmr7iVjaCMpCPa85V6tFVopaDQFezjMHJvGA9q3aqVQjvF4TMMHxZneG83VJvQrxkFek1eoqWlpbVU8+IrLuC1KCqu1NIMXgWGtkixw/gmQAfHDDx4J4aVM7nCySipi2IGr0qP2gp0TvHYNLIFNmXK+dBbK+jYhwieay75sE9JtuuKU7x/F/5e0+vSbsEejgMBKzNseUdQULPGbHNRlBFlPWq8VkCq4GUajNh9vcu3eLUtKu8MpBe8SgxtYy1GUSlgEcP3MUVLQswUAOijtF8JYORJKMnf4gavKo/aSrQu/vrYx3nbSvWRis2pFAAqTLS9y+lSfrmwVB5gE25a8qfPClmAo2+4Y4nCGPsRAHNdnjJKM06sXhWG88DCUBQOXh2Kip2FtIJXqaEtK91vDsD4g894U2V/r5sr/QdAH738NW9VJZeABG0SD3hI4fOY5/hxV4UetdWRllWccsN+ZhtZamvwyMHqSS/1/4AGmy6H3eJ+wkNOGnUBMLopmC9JcVnUWlZxvvZCh7iyZhDCweOVpLZFlVbweLrxvwmGtiiaHbZvQt9utnfeFBTmRbtb25zcpwzQVNWS70DFP1CiF8QDXunTbVscOd2LKjxqy4vN+uh1KYgwrcLe56vvqtYAKwKLUaTw2LgmIAu2D3l3zXDf/Bz/BW+SihS4TFOgdekekF22T1MReDUuKqHwUgpe5Ya2HIVYeW9vXnB2cHINf13AeHl0IMBgi1uCiU6CjJL6QyzgsdLdDHZcZ6Jo1R615XVmJG1dZiwwBuTv8M1vOsAyP6z5uqzRjkIHF9xcGX8v/sKPh3aGFifNRsi2n2v5hogeATzGi1OnsYugNkXlZ4YtSCV4lRvaEvTh/igIMJAHMMcNE4TtJXnrxAJeou24mfYpCIpW7VFbXmFG8saesP+lYDjO2YX1wW0swNE0rKLMu2ryH8Cq64L5EhRFC6M9/Xnzk6wP10wM9rz+gzJSL00DGLeH8G5MZgJW6epeZfdLS+5a7w1i1q6ohMJLJXiVG9qiKPLxtvmcMWZ+ggHd9ZVdm44zSCVWhQQhJfNHvYIXbtyLCqB2Ad9dZ7323zZMBrQvY3+5Ve1RW15lzLWW0kJJ/XYOvjPyN2q7Uvelx3lOtT99l/dvPUEvju/ZX5h2eN0mjmd8wUs/3UFg95p7eMa5pS0BVgel82+eQPMwS3nOq0tYKU7W7PsqalNUQuGlEjwUrdzQtvTulvYAw6xCOcEoiDmqJA/W0YQak6CixP6oJ/Cijhloq0/t0YxOo1Fb9h6zSEtLS2OJqsrEET3bytFpNDnY8pDdZFXmUSt4GQlBbUbyxr6wLzTy8GpN/W12F6+EhN/wPWw4Zcis1Y/w9xmV5t7YrTl2kvrOY66O1pvXmpoHZTCR3Iit00crytNpdBi6IxALNjPTQaWbHI1Gb6YwXGW87V2ucXjCSZ3efYbvPnPOymRN2Dd29VuLohLKLaXgVWFoW5x6QEttn1dIdEyU//GNyv067gjmv8CLIJ+k/6gn8GokU808apGfz2M5N7D/zUmM8HZ1dnB0vhyZVCBosHCZs0oyk5+nfMzHN464zZUulv54m/gyWzAPiu1cs6ISkpdW8NgiVGZoyyp8GeJ18sSJ8wG33pedYCYoKNE//gV4Ei0o/+SkGjy+CuRCBQqQ4FUgTJ1Xk+DVWUJJToAET1TRJcETlbISkS4JnqjCSIInKmUlIl0SPFGFkQRPVMpKRLokeKIKIwmeqJSViHSrAM/CwsLb21sizlTcJ+Hl5bVz505x50rm10gUKCwsnDx5Mr6wpKEtXo3aL5MtXu21k4Ijq2jxSEPbWl8DJHi1lk4aDhQ/eMj/vPT77XlIvEOEKzXrU8L90Gv+HudcH2TV5uaThhQxEryGFI0GVxaxg4d89FYB6LHOp5xtCooiJVFuewwmd6dRYf3d+nW5FL/w0g1eSXaY41Y9Hf01pmZmO2zuZeOqUVbhE7fdhiuXL54zY562vl3Qc/xTk+KP0z/KUezgZTjPpwPI9BgbWQFZjCd7e4CowBOBcW1FgZNe8JC8OMvxXWftuZKNuTkgL12XD5ltzvUjZnw+pT1l89WXWPCR0oQz+t0AlLb48MxyKhJT8taLGTzWj2OLdUyWdKRQwShY+MMgzPjD/UQGngiMayu6JqQVPFb++QXte6w684NzF3tpnJEsVabzyDvsHk6Ox4pZNg9wnR1WwLKuVBlYf6ciGSV1vXjBY707o7HGMzd4XWuADrpOQu9NFyF4IjGurejKkFLwCkI3dQDY8UTw4HJ27NXLD7gP/V9f0YVCgfluqXxnowLfFXSA7usqklFS14sXvBS7+WZhv9GihyuoMtS27a+UdYfGVMaDx8jLTEvPKeZHCReF/HfP7oaGPE7+KGSWpiT/VdStoODw55m/mD8+fMjjPN5cqXEtipZ8TbsffO3mvdgvgmsGl1+NF6UTPJaHWluZTkPD8M5WOOleHJjWlAILzwnAK7mxrhlAOz3cTlKxKE7wWJ/3q6lEsId2N1f1oFJgqe/X8iJzwDN2CzpgYWXvesH9xJ6lMyaaXnzCH4Ij+S+OrFt94MzlyIf3LlktGaU893yCoNead+/YSsPtZ69FvngZf+3EtqmKoBdYjDIrM65FCz+4m6hpbHUIfvTkzmUXA5WRhmce8J9lL1/C6q2RSvBKHq8EoCvpxyUFHztod3CvlYnByhP30nHGDn8ZDIJzVaKNMgVgulP1RJWcvcQIHjPJftGGy5z+fcndLR0AWi8+yH0CHCcoB7zuy4594jV0mBkjBea6PONE7NWBKa16dnfi+DqgSKBuN9m+Mx5xpmqY7ywGgMMHwRxakq2yYSC3USSYGvFzZOWeUW3Xy/A8v/VFvkXoNIf5rs9xlwt/7+ovSCN4SJb7RMydduYGa/ccdvhYHy7PkQd9PyFuVZiURS/WtJWh9x5zi69+9QVu3HuKEbz43Spb7vOmMkuem7SUoSiAB9Fblt/VXH6FMAAMMegh0xo82c586e76XVqBVRQ3qQKv5VTgmROXRC4FmGUXyR3Zoyjj6enTXCiFG9fmBRi3BtjyiNC/fLxlqEz7zlfy6xJbaQSPleo0AoAiD464ui9ItzNNccANQadEoGq01QS5/+BQDN6kR7BVopfEBh7z7Y4R/UwdXXifM2vGKlAooHZe8MYmjtCcFk/3CmHs9t1tEQAs8cC9eQ9hZD67HeDpfmLNFHkKbI1ik4OUXtXvTwNopthHZfGKnSe8kn8IWj+hLZ6/ZnsKHVzZxrj8SP/2WAoAuleEXSz8napYkEbwkCz3CQC0vtMe47qTqYemAmbEWJau7Bub+nWSORT1TaiJRxXqNvrN4gKPEbtv3srjoeE8r+dbt2+eNOwK0FJ1Zw5RRKHglQQaywFMOPwc67+UfL5iuVRp6DAdS8fQZ28z/U1aAmyP5jVZrILnlx3Wa84e0qmFDAXkevb0eMtlTwh4SKHDeDlKE/AhYI4W+62kAkxzTKvDNSGN4KHF4UswP3YdweQJin5yUgWAMftjeEMHLN6Fz1ymDx/qnkLo1xAvBMn+JS7wHm5R3hXLY4MjKSN1syKd0gzOfCQMpoSC9/28BgVAwzMX/VvkrdWD1hZOp3K7miXBpi044LGYTMbb23f5Qf+Tfv/i8r7UjitcOOElgMczrvVe1AZkmprWzwAAC8hJREFU4ew3Qpjzzi0BAG3f8iNQwm6V/pBK8Fg5NoNotMFq7PcyceVJd5gNAConBLUY8/01vVkzr2TwmkVGiqdnpVpK4EbxgFf6YoOqZjyBL0zL+F1jqQAznF/jGxYOeDoBhLow0nSATBt5nxwE+XhxEkCP9b68oKG/L+vRMfCYxdcsdoWGaU5eiR/I/w40bjN2JcdBTqhx7VdffQUAkzBCkxexrr9MmyY+X8uVuAZXgFSCh6LxVmOoLQFfZcXsGEmlwl7uZBiK5D7euUIvFHcTGSv9jPmhGigrEbuKAzwk5bR211lbs8sJxojZ1xOgiTLBoZ0D3rB1p7/ycGR+8FeVA3U3bJoRybw0GUBR/zSXS+TnBaOxijRYG/7nh+fmPZFhCwHWhnJeyIXl9+Wcxggzf25TK8y4FmXmnJ6r2G7WNr6vO/IxaAEdFriWryjKnUBlK6QUPCTriirA4ku8oTsr22YwdNayz+ZEszDtwMRuQ+Zo6yzXXbFCd5m2psZijZlDQMe/MiklcZuIwSu5Zz9nZO+WNBqNTlMcOcUrnTfVwcq+uHbxpL7taNgmmZ7j5miYHnnNbmCY8Ufm6J5KinQ237Lb+ZLfeTsLrZmTzL3jePOhyIsza5QUWy+wOh3g7+O8b9vpRxm++gMUR8xbaX445VeYhuJ4E3PjTfucfK9eO3d4u8G6XTE/BQ2XEONabFI7w3PDPOW5K/Y7nz1utX7hjMmbvZ8RWsDaRF5KwcMquxDrsf37W/lEPou977pmypC5ZtG8EDzcPExOBos54dMEbF7WRuLGfIyIwaubNH9/ZrxKyynED8q5CSIln1OfJ6bzraT/Fv/+jTGNFP34iXVCS75lJL5IyMjn0YovhzDjWmx70ffXCfGvhWaHP7y6y9ILHoqirLy3Yd5nnZxc/B+m8e98qK5yUrFfgwavUUdAqsFr1JETS+FJ8EQlMwmeqJSViHRJ8EQVRhI8USkrEemS4IkqjCR4olJWItIlwRNVGEnwRKWsRKRLgieqMJLgiUpZiUi3CvA2b97sKX2389RLZD08PLZu3VovSZGJSJ4ChYWFI0aMwJ8XaWiLV6P2y2SLV3vtpODIKlo80tC21tcACV6tpZOGA0UAHuNz3IVDu8yMDdZu2+P37COCounXz0VyXixeuaTI75QHd24E+Li7+aZWYNpReQLMr2n3QoP9Pc+fC6vw+fHvqVHhN656uZ+4mcK+r6XOmVZQJBK8CoQhV2MK1Dd477w3TJg499T9N4VM1o8PLy5u11y2fdfcjmD/jneXZiW6M9P991su7N+CIgcXa+UFUPwi0HqdWjeAFpqH+c8glb64oD68t7YL11UuKeDI5sXD5AEWuLOfBapzphWckLSCx0i1W7pwo62Lf0jE40f3Ai+d2btm/s5rn3h3vHPU+vv+1pmNessMML9bM+fIdCF3BVYgq6SsrlfwWO89psqCwxsCY4n2qs0o1QOPLepnl3lAqSV4WALYI2EE8PK89eQxfxdb/tN1yBePSXzw6iVTIZeDtIJXGrNKhga8D0UWpu/y4fivcEVCSu5aTR80wziC/WRQUaLPwv7gTLxmhMgpaavqFbz047PpA9XLPk5TmryxRw3Ay2W7PNSuxcOig/w6MhpaaAhaPBT9k/7scQbeNuyb33QieHXNVMhlIbXgPTGZvtj+mM327ZZOnkHPMsvaZ6RfWN6hy5AbvPvbw417UqmwNlzY7exCVJWYVfUKXsz2EVQF2cvlPIJurZvoUJ2uJlvVujLA+mmnVAa8ctEiwSsnSb2tKH2ydtmmz8SepSDx39H6TWHAtlB+p4iZkxDgG0o0IRDsLrlL9QpezjkNGkB/g1OZ/OfD2crlx9x+Sqz4KrGjFQpeJftzY4MwstPf/2SgKOvH4VFE8BDmz69Z77JwpjrVBK/kR9L9kKCbt19+rsXTedLb4lUC3ndvvaYAq0NqoaeEMViv4KE/n5h0lKVQoHnPUTobd7levfsmnz/HwQOkUjtaFEXLgFe5fS3WtcxLdNRXVV2+bv/J8652uzdanlijJBjjMRM9dJUHtqJAk/mWBfzYVQ0e6+WFTepLTFyDH0bduXbEcIaKwYEX+M4qP6kKF6QZPItXT/3sbGxt91pstrS991FwDdxY2ZVCg/1P3/gfO3T44P4da1aaOd5gmzZWqKOEbqhf8FC0JPWa0bAO/ME1hQ7Dl22PwplnVmZHy9a4DHhV7P/zxdZBMGi9Tx6vb1MU7ziaOKuJtYEjKXI1Ae/tWe0O3YeFCGZjSgOWd+uouvut4Fn2Kq8H6QXPeFC3Ld5POdVU9nWzXu3AJZH7z439uCZA77PIbE3wF3Znk5V3enabPnrOfPPiKmWVlB3qGzy2LszM6ED7bcZzR3aTp1AAoLWyYTzvf7nK7GjZB5cBr/L9Yy1Hy8iC62ccEMwsq76CFo9TnlNTZWoAXv5tLYC+5kH8cQiKoowYm14Auv7ljWMquhKkFTzkV/LLt4KhBjPDsje0mLYB85ti5dgMlgUKTHNI5v9/UHzTVAHAIIho81aRqJKzXiTgCeTJT43cM7M7jQKLLvLcbzgbhdrRsjeVAY+bltD9GWlbu8jQBs3Dm8mhdQavKNC4KcCsU8QCFwapArTROV7t0Ym0gicIPncpQLs9hQa2ySiK/LYf2wRoBN9uVtqpUQD/adsTXOXKJSJxK+oVvBTv01G8lo2vFJIbuhjgv+UnuG9Fq9yOttwYrzL72pK7WgD0Cfof+PUnZgFf1xYvi23AusSLeCUUY/5lslPXfeKfWBULUgpe1gPP88Hx+OFwxLp+FAC9QEwvn8VtgAYHXgk6E8hnzK+xjAduFdJKwuZ6Be/htjlHXws05enDPDWV0krLDhtiI5Xa0bL5IbR4le9fkrKxPZU+SisZ19OsO3i//VfJAcw985lXfvZ3fsBMAAXNw9W27pFK8Eoe6wGV0gTO4kb1t4ywf+rWsV89+cp2EgXA6qlgugXJODcBQHba+mrXaISwNNof9Qvepv7j90YJ+vccVdjz+xPtMPf1KuxoI7ED8OBVuf+DjYNlmoMHfoDATN/Zs05jPCQ3dBFAF+MLuBeXoqUPdnYG0PL6yJvEqTLiUgkeI23b2L6GDkF8T1QUYbhMkae27xzI/j+JmXBkIICmt+AdGMxnB/sCjLS+j688qxS38e9Qv+BtHCzTDLbeysB3/QqjbYd07OLPdmWu1I7WfE80pudXV3UA7ltEqtwf+XpPvxOM2XOX38PNi9wzCEB+roXgHRlI8fHxVLk5W/lrkFyfqQAzcaM4fKYoiqad0WqvACdf8+oQpMB9QQfF+dZ809tqBF4qwUPRBLulW0IE1RPr3YVJAFOP8t5igvw6O7dNm4W2ubwKLNl2Mq1jO98vUsZd/d4k/XDToEl7w24eNdVeaXr8gl9oeNhFO9MJg7vZPuBbO1dqR1v08ojmvOGdmtLp0GX0zBUOWN+0YvvaQylsLhjv72ybM3qe6cFLvp7H9mzbZnd27RBZCr3JIJUpp+JRRvRJTRWl9nQ6vXnrcWo6VzLRR0d1Zw7v2oQmI9958ALdHU+EZIrd8ZnsZTFr/OQ1+5xcj+81XjhNzdw5tdrzKmwspRQ8lPHFa4OGkc3Z209i73g7aA5rO3dvIB8zLKLZjzYpdZ1tef5h3POwM5snDOphJ40vDKrXFi/nRdQHdu+d8TUN8zN1OObqG/L2V7nKrCI72orakWrsX5T9JiHxzU9sgPnnU2pCavqnvMJSfMNbUdqVri/NSUtIeP3pf7VJSFrBYwuam/L4qrvrpesRqbnCqitWYVKY3xknxzN+4RnVHjRXGqlGt7FewWt0Zy/KAks1eKIUVjLSJsETVRxJ8ESlrESkS4InqjCS4IlKWYlIlwRPVGEkwROVshKRLgmeqMJIgicqZSUiXRI8UYWRBE9UykpEulWAl5qaynPPIL9JBUgF6lOBffv24esQgqEtfgO5TCpAKiA6BUjwRKctmTKpQIUKkOBVKA25gVRAdAqQ4IlOWzJlUoEKFfg/6ic8pt1CCRoAAAAASUVORK5CYII=)\n",
        "\n",
        "Dado que la información es registrada a medida que se obtiene la medición y que no se conoce cuantas mediciones se realizan, debe proponerse un fin de datos adecuado.\n",
        "\n",
        "Una vez que finaliza el ingreso de datos, el programa debe mostrar en pantalla la última temperatura registrada en cada barrio de la ciudad, expresada en grados Celcius.\n"
      ],
      "metadata": {
        "id": "aFOWFZ9sd-5L"
      }
    },
    {
      "cell_type": "code",
      "source": [
        "# Creo dos listas vacías, que servirán parar almacenar los datos ingresados\n",
        "barrios = []\n",
        "temperaturas = []\n",
        "\n",
        "# Ingreso de datos\n",
        "barrio = input(\"Ingrese un barrio, o '*' para terminar: \")\n",
        "while barrio != '*':\n",
        "  temperatura_F = float(input(\"Ingrese una temperatura: \"))\n",
        "  temperatura_C = fahrenheit_a_celcius(temperatura_F) # Convierto a Celcius\n",
        "\n",
        "  # Agrego lo ingresado a dos listas apareadas\n",
        "  barrios.append(barrio)\n",
        "  temperaturas.append(temperatura_C)\n",
        "\n",
        "  # Permito el ingreso de nuevo barrio o el fin de datos\n",
        "  barrio = input(\"Ingrese un barrio, o '*' para terminar: \")\n",
        "\n",
        "# Creo un diccionario para tener el último registro de cada barrio\n",
        "ultimo_registro = dos_listas_a_diccionario(barrios, temperaturas)\n",
        "\n",
        "# Muestro el diccionario en pantalla\n",
        "for barrio, temperatura in ultimo_registro.items():\n",
        "  print(barrio,\"\\t\",temperatura)"
      ],
      "metadata": {
        "colab": {
          "base_uri": "https://localhost:8080/"
        },
        "id": "TrvPHW-CfVjM",
        "outputId": "dd65b359-c99c-4fac-9775-af38b12de644"
      },
      "execution_count": null,
      "outputs": [
        {
          "output_type": "stream",
          "name": "stdout",
          "text": [
            "Ingrese un barrio, o '*' para terminar: Abasto\n",
            "Ingrese una temperatura: 61\n",
            "Ingrese un barrio, o '*' para terminar: Arroyito\n",
            "Ingrese una temperatura: 59\n",
            "Ingrese un barrio, o '*' para terminar: La Sexta\n",
            "Ingrese una temperatura: 60\n",
            "Ingrese un barrio, o '*' para terminar: Martin\n",
            "Ingrese una temperatura: 58\n",
            "Ingrese un barrio, o '*' para terminar: La Sexta\n",
            "Ingrese una temperatura: 59\n",
            "Ingrese un barrio, o '*' para terminar: Abasto\n",
            "Ingrese una temperatura: 62\n",
            "Ingrese un barrio, o '*' para terminar: Saladillo\n",
            "Ingrese una temperatura: 56\n",
            "Ingrese un barrio, o '*' para terminar: *\n",
            "Abasto \t 16.666666666666668\n",
            "Arroyito \t 15.0\n",
            "La Sexta \t 15.0\n",
            "Martin \t 14.444444444444445\n",
            "Saladillo \t 13.333333333333332\n"
          ]
        }
      ]
    }
  ]
}