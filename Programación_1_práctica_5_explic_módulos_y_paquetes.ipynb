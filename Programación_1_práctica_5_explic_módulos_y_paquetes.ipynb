{
  "nbformat": 4,
  "nbformat_minor": 0,
  "metadata": {
    "colab": {
      "provenance": [],
      "include_colab_link": true
    },
    "kernelspec": {
      "name": "python3",
      "display_name": "Python 3"
    },
    "language_info": {
      "name": "python"
    }
  },
  "cells": [
    {
      "cell_type": "markdown",
      "metadata": {
        "id": "view-in-github",
        "colab_type": "text"
      },
      "source": [
        "<a href=\"https://colab.research.google.com/github/CruzElizorios/aprendiendo-python/blob/main/Programaci%C3%B3n_1_pr%C3%A1ctica_5_explic_m%C3%B3dulos_y_paquetes.ipynb\" target=\"_parent\"><img src=\"https://colab.research.google.com/assets/colab-badge.svg\" alt=\"Open In Colab\"/></a>"
      ]
    },
    {
      "cell_type": "markdown",
      "source": [
        "# Módulos\n",
        "\n",
        "Si sales del intérprete de Python y vuelves a entrar, las definiciones que habías hecho (funciones y variables) se pierden. Por lo tanto, si querés escribir un programa más o menos largo, es mejor que utilicés un editor de texto para preparar la entrada para el intérprete y ejecutarlo con ese archivo como entrada. Esto se conoce como crear un **script**. A medida que tu programa crezca, quizás quieras separarlo en varios archivos para que el mantenimiento sea más sencillo. Quizás también quieras usar una función útil que has escrito en distintos programas sin copiar su definición en cada programa.\n",
        "\n",
        "Para soportar esto, Python tiene una manera de poner definiciones en un archivo y usarlos en un script o en una instancia del intérprete. Este tipo de ficheros se llama **módulo**.\n",
        "\n",
        "Un módulo es un archivo conteniendo definiciones y declaraciones de Python. El nombre de fichero es el nombre del módulo con el sufijo .py agregado.\n",
        "\n",
        "```\n",
        "# Por ejemplo:\n",
        "# mimodulo.py\n",
        "def suma(a, b):\n",
        "    return a + b\n",
        "\n",
        "def resta(a, b):\n",
        "    return a - b\n",
        "```\n",
        "\n",
        "Una vez definido, dicho módulo puede ser usado o importado en otro fichero, como mostramos a continuación. Usando `import` podemos importar todo el contenido."
      ],
      "metadata": {
        "id": "5IQpyx-M5ipY"
      }
    },
    {
      "cell_type": "code",
      "source": [
        "import mimodulo\n"
      ],
      "metadata": {
        "id": "1Rj45VdFtU1M"
      },
      "execution_count": null,
      "outputs": []
    },
    {
      "cell_type": "code",
      "source": [
        "import mimodulo\n",
        "\n",
        "print(mimodulo.suma(4, 3))   # 7\n",
        "print(mimodulo.resta(10, 9)) # 1"
      ],
      "metadata": {
        "colab": {
          "base_uri": "https://localhost:8080/"
        },
        "id": "OHSx-5Sr8a6-",
        "outputId": "f84d48b9-572a-4950-c9b4-f3e673eaa61b"
      },
      "execution_count": null,
      "outputs": [
        {
          "output_type": "stream",
          "name": "stdout",
          "text": [
            "7\n",
            "1\n"
          ]
        }
      ]
    },
    {
      "cell_type": "code",
      "source": [
        "# Puedo consultar el contenido utilizando dir()\n",
        "dir(otro_modulo)\n",
        "help(otro_modulo.suma)"
      ],
      "metadata": {
        "colab": {
          "base_uri": "https://localhost:8080/"
        },
        "id": "taERkaBtEkob",
        "outputId": "16bfff84-940f-444a-cf8a-ae0d3e320969"
      },
      "execution_count": null,
      "outputs": [
        {
          "output_type": "stream",
          "name": "stdout",
          "text": [
            "Help on function suma in module otro_modulo:\n",
            "\n",
            "suma(a, b)\n",
            "\n"
          ]
        }
      ]
    },
    {
      "cell_type": "code",
      "source": [
        "import otro_modulo\n",
        "\n",
        "otro_modulo.saludo()\n",
        "print(otro_modulo.otro_saludo)"
      ],
      "metadata": {
        "colab": {
          "base_uri": "https://localhost:8080/"
        },
        "id": "TL8FeWm7uSGZ",
        "outputId": "ebd0ba3a-8ac5-4ef0-c9fd-accd12b66622"
      },
      "execution_count": null,
      "outputs": [
        {
          "output_type": "stream",
          "name": "stdout",
          "text": [
            "Hola Mundo!\n",
            "Hola a todas y todos!\n"
          ]
        }
      ]
    },
    {
      "cell_type": "code",
      "source": [
        "import modulo_en_mi_PC\n",
        "\n",
        "print(modulo_en_mi_PC.saludo_TUIA)"
      ],
      "metadata": {
        "colab": {
          "base_uri": "https://localhost:8080/"
        },
        "id": "e2GBgYNLvPAn",
        "outputId": "893ce8a9-8c14-404c-f957-fb09ca9ddede"
      },
      "execution_count": null,
      "outputs": [
        {
          "output_type": "stream",
          "name": "stdout",
          "text": [
            "Hola C1 y C3\n"
          ]
        }
      ]
    },
    {
      "cell_type": "markdown",
      "source": [
        "También podemos importar únicamente los componentes que nos interesen como mostramos a continuación:"
      ],
      "metadata": {
        "id": "aQ9AsLyu9Rai"
      }
    },
    {
      "cell_type": "code",
      "source": [
        "from mimodulo_v2 import multiplicacion\n",
        "\n",
        "# En ese caso no es necesario referirse previamente al módulo\n",
        "multiplicacion(4,3) # 12"
      ],
      "metadata": {
        "colab": {
          "base_uri": "https://localhost:8080/"
        },
        "id": "Rkio13VP9RAY",
        "outputId": "5475b51c-520c-4f29-9265-1c26b1a2c5a0"
      },
      "execution_count": null,
      "outputs": [
        {
          "output_type": "execute_result",
          "data": {
            "text/plain": [
              "12"
            ]
          },
          "metadata": {},
          "execution_count": 12
        }
      ]
    },
    {
      "cell_type": "markdown",
      "source": [
        "Por último, podemos importar todo el módulo haciendo uso de `*` , sin necesidad de usar `mimodulo.*`."
      ],
      "metadata": {
        "id": "ovhLLysiAp35"
      }
    },
    {
      "cell_type": "code",
      "source": [
        "from mimodulo import *\n",
        "\n",
        "suma(4, 5) # 9"
      ],
      "metadata": {
        "colab": {
          "base_uri": "https://localhost:8080/"
        },
        "id": "ESRLB-GF8i62",
        "outputId": "911b2422-817a-47c3-ec91-9f5ce57b2aa7"
      },
      "execution_count": null,
      "outputs": [
        {
          "output_type": "execute_result",
          "data": {
            "text/plain": [
              "9"
            ]
          },
          "metadata": {},
          "execution_count": 13
        }
      ]
    },
    {
      "cell_type": "markdown",
      "source": [
        "### Cambiando los Nombres con as\n",
        "\n",
        "Por otro lado, es posible cambiar el nombre del módulo usando `as`. Por ejemplo:\n",
        "\n",
        "```\n",
        "# moduloconnombrelargo.py\n",
        "saludo = \"¡Hola mundo!\"\n",
        "```\n",
        "\n",
        "Tal vez queramos asignar un nombre más corto al módulo.\n",
        "Si el nombre del módulo es seguido por as, el nombre siguiendo as queda ligado directamente al módulo importado."
      ],
      "metadata": {
        "id": "d2K4MeOu6TtX"
      }
    },
    {
      "cell_type": "code",
      "source": [
        "import modulo_en_mi_PC as m\n",
        "dir(m)\n",
        "print(m.saludo_TUIA)\n",
        "\n",
        "import importlib\n",
        "importlib.reload(m)\n",
        "\n",
        "print(m.saludo_TUIA)"
      ],
      "metadata": {
        "colab": {
          "base_uri": "https://localhost:8080/"
        },
        "id": "dpGto3egD-1e",
        "outputId": "c07beea4-b399-409a-92f0-7e6271c9d56a"
      },
      "execution_count": null,
      "outputs": [
        {
          "output_type": "stream",
          "name": "stdout",
          "text": [
            "Hola C1 y C3\n",
            "Hola Programación I\n"
          ]
        }
      ]
    },
    {
      "cell_type": "markdown",
      "source": [
        "### Recargando módulos\n",
        "\n",
        "Por razones de eficiencia, cada módulo es importado solo una vez por sesión del intérprete. Por lo tanto, si cambias tus módulos, debes reiniciar el interprete – ó, si es un solo módulo que quieres probar de forma interactiva, usa `importlib.reload()`.\n",
        "\n",
        "```\n",
        "import importlib\n",
        "importlib.reload(modulename)\n",
        "```\n",
        "\n"
      ],
      "metadata": {
        "id": "_O0gBYwVE1ZB"
      }
    },
    {
      "cell_type": "markdown",
      "source": [
        "## Paquetes\n",
        "Los Paquetes son una forma de estructurar el espacio de nombres de módulos de Python usando «nombres de módulo con puntos». Por ejemplo, el nombre del módulo `A.B` designa un submódulo `B` en un paquete llamado `A`.\n",
        "\n",
        "Por ejemplo, supongamos que se quiere designar una colección de módulos (un «paquete») para el manejo uniforme de archivos y datos de sonidos. Hay diferentes formatos de archivos de sonido (normalmente reconocidos por su extensión, por ejemplo: .wav, .aiff, .au), por lo que tienes que crear y mantener una colección siempre creciente de módulos para la conversión entre los distintos formatos de archivos. Hay muchas operaciones diferentes que quizás quieras ejecutar en los datos de sonido (como mezclarlos, añadir eco, aplicar una función ecualizadora, crear un efecto estéreo artificial), por lo que además se estará escribiendo una lista sin fin de módulos para realizar estas operaciones. Aquí hay una posible estructura para éste paquete (expresados en términos de un sistema jerárquico de archivos):\n",
        "\n",
        "```\n",
        "sound/                          Top-level package\n",
        "      __init__.py               Initialize the sound package\n",
        "      formats/                  Subpackage for file format conversions\n",
        "              __init__.py\n",
        "              wavread.py\n",
        "              wavwrite.py\n",
        "              aiffread.py\n",
        "              aiffwrite.py\n",
        "              auread.py\n",
        "              auwrite.py\n",
        "              ...\n",
        "      effects/                  Subpackage for sound effects\n",
        "              __init__.py\n",
        "              echo.py\n",
        "              surround.py\n",
        "              reverse.py\n",
        "              ...\n",
        "      filters/                  Subpackage for filters\n",
        "              __init__.py\n",
        "              equalizer.py\n",
        "              vocoder.py\n",
        "              karaoke.py\n",
        "              ...\n",
        "\n",
        "```\n",
        "\n",
        "Los usuarios del paquete pueden importar módulos individuales del mismo, por ejemplo:\n",
        "\n",
        "> `import sound.effects.echo`\n",
        "\n",
        "Esto carga el submódulo `sound.effects.echo`. Debe hacerse referencia al mismo con el nombre completo.\n",
        "\n",
        "> `sound.effects.echo.echofilter(input, output, delay=0.7, atten=4)`\n",
        "\n",
        "Otra alternativa para importar el submódulo es:\n",
        "\n",
        "> `from sound.effects import echo`\n",
        "\n",
        "Esto también carga el submódulo `echo`, y lo deja disponible sin su prefijo de paquete, por lo que puede usarse así:\n",
        "\n",
        "> `echo.echofilter(input, output, delay=0.7, atten=4)`\n",
        "\n",
        "Otra variación más es importar la función o variable deseadas directamente:\n",
        "\n",
        "> `from sound.effects.echo import echofilter`\n",
        "\n",
        "De nuevo, esto carga el submódulo `echo`, pero deja directamente disponible a la función `echofilter()`:\n",
        "\n",
        "> `echofilter(input, output, delay=0.7, atten=4)`\n"
      ],
      "metadata": {
        "id": "uJ6AZaaPo2AW"
      }
    },
    {
      "cell_type": "markdown",
      "source": [
        "## Biblioteca estándar\n",
        "\n",
        "Python viene con una biblioteca de módulos estándar, descrita en un documento separado. [Índice de Módulos Python](https://docs.python.org/es/3/py-modindex.html).\n",
        "\n",
        "Estos módulos se integran en el intérprete y proveen acceso a operaciones que no son parte del núcleo del lenguaje pero que sin embargo están integrados, tanto por eficiencia como para proveer acceso a funciones primitivas del sistema operativo.\n",
        "\n",
        "El conjunto de tales módulos es una opción de configuración el cual también depende de la plataforma subyacente, es decir donde se instala el intérprete de Python. Por ejemplo, el módulo `winreg` sólo se provee en sistemas Windows."
      ],
      "metadata": {
        "id": "uDazsknBIPuy"
      }
    },
    {
      "cell_type": "markdown",
      "source": [
        "### random\n",
        "\n",
        "El módulo `random` proporciona funciones que generan números *pseudoaleatorios*. Por ejemplo random() devuelve un número flotante aleatorio entre 0.0 y 1.0 (inclusive)."
      ],
      "metadata": {
        "id": "4dlx7ozDQVC7"
      }
    },
    {
      "cell_type": "code",
      "source": [
        "import random\n",
        "dir(random)"
      ],
      "metadata": {
        "id": "MBBIsmioEdCC",
        "colab": {
          "base_uri": "https://localhost:8080/"
        },
        "outputId": "5e286c01-47da-4ccf-cf2e-4a6e5f69de53"
      },
      "execution_count": null,
      "outputs": [
        {
          "output_type": "execute_result",
          "data": {
            "text/plain": [
              "['BPF',\n",
              " 'LOG4',\n",
              " 'NV_MAGICCONST',\n",
              " 'RECIP_BPF',\n",
              " 'Random',\n",
              " 'SG_MAGICCONST',\n",
              " 'SystemRandom',\n",
              " 'TWOPI',\n",
              " '_ONE',\n",
              " '_Sequence',\n",
              " '_Set',\n",
              " '__all__',\n",
              " '__builtins__',\n",
              " '__cached__',\n",
              " '__doc__',\n",
              " '__file__',\n",
              " '__loader__',\n",
              " '__name__',\n",
              " '__package__',\n",
              " '__spec__',\n",
              " '_accumulate',\n",
              " '_acos',\n",
              " '_bisect',\n",
              " '_ceil',\n",
              " '_cos',\n",
              " '_e',\n",
              " '_exp',\n",
              " '_floor',\n",
              " '_index',\n",
              " '_inst',\n",
              " '_isfinite',\n",
              " '_log',\n",
              " '_os',\n",
              " '_pi',\n",
              " '_random',\n",
              " '_repeat',\n",
              " '_sha512',\n",
              " '_sin',\n",
              " '_sqrt',\n",
              " '_test',\n",
              " '_test_generator',\n",
              " '_urandom',\n",
              " '_warn',\n",
              " 'betavariate',\n",
              " 'choice',\n",
              " 'choices',\n",
              " 'expovariate',\n",
              " 'gammavariate',\n",
              " 'gauss',\n",
              " 'getrandbits',\n",
              " 'getstate',\n",
              " 'lognormvariate',\n",
              " 'normalvariate',\n",
              " 'paretovariate',\n",
              " 'randbytes',\n",
              " 'randint',\n",
              " 'random',\n",
              " 'randrange',\n",
              " 'sample',\n",
              " 'seed',\n",
              " 'setstate',\n",
              " 'shuffle',\n",
              " 'triangular',\n",
              " 'uniform',\n",
              " 'vonmisesvariate',\n",
              " 'weibullvariate']"
            ]
          },
          "metadata": {},
          "execution_count": 22
        }
      ]
    },
    {
      "cell_type": "code",
      "execution_count": null,
      "metadata": {
        "colab": {
          "base_uri": "https://localhost:8080/"
        },
        "id": "SULwRkvVQACc",
        "outputId": "61d45b83-b37b-435d-b75a-7b03bb25ee9a"
      },
      "outputs": [
        {
          "output_type": "execute_result",
          "data": {
            "text/plain": [
              "0.7877649106806405"
            ]
          },
          "metadata": {},
          "execution_count": 30
        }
      ],
      "source": [
        "random.random()"
      ]
    },
    {
      "cell_type": "markdown",
      "source": [
        "Otro ejemplo de funciones de números aleatorios es `randint` que toma dos parámetros, una cota inferior y una cota superior, y devuelve un número entero dentro de ese rango."
      ],
      "metadata": {
        "id": "j7bAFBmpKaCk"
      }
    },
    {
      "cell_type": "code",
      "source": [
        "random.randint(1,10)"
      ],
      "metadata": {
        "colab": {
          "base_uri": "https://localhost:8080/"
        },
        "outputId": "e773fa79-e389-4018-a994-e9256c1cff4f",
        "id": "qM8S7UFTKaCl"
      },
      "execution_count": null,
      "outputs": [
        {
          "output_type": "execute_result",
          "data": {
            "text/plain": [
              "2"
            ]
          },
          "metadata": {},
          "execution_count": 36
        }
      ]
    },
    {
      "cell_type": "markdown",
      "source": [
        "Para elegir un elemento de una secuencia aleatoriamente puede utilizarse `choice`."
      ],
      "metadata": {
        "id": "EtqQE55bKaCm"
      }
    },
    {
      "cell_type": "code",
      "source": [
        "dado = [1, 2, 3, 4, 5, 6]\n",
        "random.choice(dado)"
      ],
      "metadata": {
        "colab": {
          "base_uri": "https://localhost:8080/"
        },
        "outputId": "33a4c66a-5e5b-4808-a1c0-625d4dcfd864",
        "id": "fY62ID5SKaCm"
      },
      "execution_count": null,
      "outputs": [
        {
          "output_type": "execute_result",
          "data": {
            "text/plain": [
              "4"
            ]
          },
          "metadata": {},
          "execution_count": 43
        }
      ]
    },
    {
      "cell_type": "markdown",
      "source": [
        "### csv: lectura y escritura de archivos CSV\n",
        "\n",
        "El tan llamado CSV (Valores Separados por Comas) es el formato más común de importación y exportación de hojas de cálculo y bases de datos.\n",
        "\n",
        "[Documentación](https://docs.python.org/es/3/library/csv.html#module-csv)\n",
        "\n",
        "[Ejemplo de uso](https://colab.research.google.com/drive/1poTuZWXb1P1bTe4AfB3tgfBPCYR1DgjZ?usp=sharing)"
      ],
      "metadata": {
        "id": "_lYLxOtVKqsa"
      }
    },
    {
      "cell_type": "markdown",
      "source": [
        "## Módulos y paquetes externos\n",
        "\n",
        "Además de los paquetes incluídos en la biblioteca estándar de Python o los creados por uno/a mismo/a, pueden instalarse y utilizarse paquetes escritos por otras personas.\n",
        "\n",
        "De hecho, muchos entornos de desarrollo traen integrados otros paquetes además de la biblioteca estándar."
      ],
      "metadata": {
        "id": "MJSuNX2KLXlR"
      }
    },
    {
      "cell_type": "code",
      "source": [
        "# Podemos ver los integrados en Google Colaboratory\n",
        "\n",
        "!pip list"
      ],
      "metadata": {
        "id": "Uu29GBOCK6n1",
        "colab": {
          "base_uri": "https://localhost:8080/"
        },
        "outputId": "2b29ef25-db0a-4d9c-eeae-0f64d6fbd80c"
      },
      "execution_count": null,
      "outputs": [
        {
          "output_type": "stream",
          "name": "stdout",
          "text": [
            "Package                       Version\n",
            "----------------------------- ----------------------\n",
            "absl-py                       1.3.0\n",
            "aeppl                         0.0.33\n",
            "aesara                        2.7.9\n",
            "aiohttp                       3.8.3\n",
            "aiosignal                     1.2.0\n",
            "alabaster                     0.7.12\n",
            "albumentations                1.2.1\n",
            "altair                        4.2.0\n",
            "appdirs                       1.4.4\n",
            "arviz                         0.12.1\n",
            "astor                         0.8.1\n",
            "astropy                       4.3.1\n",
            "astunparse                    1.6.3\n",
            "async-timeout                 4.0.2\n",
            "asynctest                     0.13.0\n",
            "atari-py                      0.2.9\n",
            "atomicwrites                  1.4.1\n",
            "attrs                         22.1.0\n",
            "audioread                     3.0.0\n",
            "autograd                      1.5\n",
            "Babel                         2.10.3\n",
            "backcall                      0.2.0\n",
            "beautifulsoup4                4.6.3\n",
            "bleach                        5.0.1\n",
            "blis                          0.7.9\n",
            "bokeh                         2.3.3\n",
            "branca                        0.5.0\n",
            "bs4                           0.0.1\n",
            "CacheControl                  0.12.11\n",
            "cached-property               1.5.2\n",
            "cachetools                    4.2.4\n",
            "catalogue                     2.0.8\n",
            "certifi                       2022.9.24\n",
            "cffi                          1.15.1\n",
            "cftime                        1.6.2\n",
            "chardet                       3.0.4\n",
            "charset-normalizer            2.1.1\n",
            "click                         7.1.2\n",
            "clikit                        0.6.2\n",
            "cloudpickle                   1.5.0\n",
            "cmake                         3.22.6\n",
            "cmdstanpy                     1.0.8\n",
            "colorcet                      3.0.1\n",
            "colorlover                    0.3.0\n",
            "community                     1.0.0b1\n",
            "confection                    0.0.3\n",
            "cons                          0.4.5\n",
            "contextlib2                   0.5.5\n",
            "convertdate                   2.4.0\n",
            "crashtest                     0.3.1\n",
            "crcmod                        1.7\n",
            "cufflinks                     0.17.3\n",
            "cvxopt                        1.3.0\n",
            "cvxpy                         1.2.1\n",
            "cycler                        0.11.0\n",
            "cymem                         2.0.7\n",
            "Cython                        0.29.32\n",
            "daft                          0.0.4\n",
            "dask                          2022.2.0\n",
            "datascience                   0.17.5\n",
            "debugpy                       1.0.0\n",
            "decorator                     4.4.2\n",
            "defusedxml                    0.7.1\n",
            "descartes                     1.1.0\n",
            "dill                          0.3.6\n",
            "distributed                   2022.2.0\n",
            "dlib                          19.24.0\n",
            "dm-tree                       0.1.7\n",
            "dnspython                     2.2.1\n",
            "docutils                      0.17.1\n",
            "dopamine-rl                   1.0.5\n",
            "earthengine-api               0.1.329\n",
            "easydict                      1.10\n",
            "ecos                          2.0.10\n",
            "editdistance                  0.5.3\n",
            "en-core-web-sm                3.4.1\n",
            "entrypoints                   0.4\n",
            "ephem                         4.1.3\n",
            "et-xmlfile                    1.1.0\n",
            "etils                         0.8.0\n",
            "etuples                       0.3.8\n",
            "fa2                           0.3.5\n",
            "fastai                        2.7.9\n",
            "fastcore                      1.5.27\n",
            "fastdownload                  0.0.7\n",
            "fastdtw                       0.3.4\n",
            "fastjsonschema                2.16.2\n",
            "fastprogress                  1.0.3\n",
            "fastrlock                     0.8\n",
            "feather-format                0.4.1\n",
            "filelock                      3.8.0\n",
            "firebase-admin                4.4.0\n",
            "fix-yahoo-finance             0.0.22\n",
            "Flask                         1.1.4\n",
            "flatbuffers                   1.12\n",
            "folium                        0.12.1.post1\n",
            "frozenlist                    1.3.1\n",
            "fsspec                        2022.10.0\n",
            "future                        0.16.0\n",
            "gast                          0.4.0\n",
            "GDAL                          2.2.2\n",
            "gdown                         4.4.0\n",
            "gensim                        3.6.0\n",
            "geographiclib                 1.52\n",
            "geopy                         1.17.0\n",
            "gin-config                    0.5.0\n",
            "glob2                         0.7\n",
            "google                        2.0.3\n",
            "google-api-core               1.31.6\n",
            "google-api-python-client      1.12.11\n",
            "google-auth                   1.35.0\n",
            "google-auth-httplib2          0.0.4\n",
            "google-auth-oauthlib          0.4.6\n",
            "google-cloud-bigquery         1.21.0\n",
            "google-cloud-bigquery-storage 1.1.2\n",
            "google-cloud-core             1.0.3\n",
            "google-cloud-datastore        1.8.0\n",
            "google-cloud-firestore        1.7.0\n",
            "google-cloud-language         1.2.0\n",
            "google-cloud-storage          1.18.1\n",
            "google-cloud-translate        1.5.0\n",
            "google-colab                  1.0.0\n",
            "google-pasta                  0.2.0\n",
            "google-resumable-media        0.4.1\n",
            "googleapis-common-protos      1.56.4\n",
            "googledrivedownloader         0.4\n",
            "graphviz                      0.10.1\n",
            "greenlet                      1.1.3.post0\n",
            "grpcio                        1.50.0\n",
            "gspread                       3.4.2\n",
            "gspread-dataframe             3.0.8\n",
            "gym                           0.25.2\n",
            "gym-notices                   0.0.8\n",
            "h5py                          3.1.0\n",
            "HeapDict                      1.0.1\n",
            "hijri-converter               2.2.4\n",
            "holidays                      0.16\n",
            "holoviews                     1.14.9\n",
            "html5lib                      1.0.1\n",
            "httpimport                    0.5.18\n",
            "httplib2                      0.17.4\n",
            "httplib2shim                  0.0.3\n",
            "httpstan                      4.6.1\n",
            "humanize                      0.5.1\n",
            "hyperopt                      0.1.2\n",
            "idna                          2.10\n",
            "imageio                       2.9.0\n",
            "imagesize                     1.4.1\n",
            "imbalanced-learn              0.8.1\n",
            "imblearn                      0.0\n",
            "imgaug                        0.4.0\n",
            "importlib-metadata            4.13.0\n",
            "importlib-resources           5.10.0\n",
            "imutils                       0.5.4\n",
            "inflect                       2.1.0\n",
            "intel-openmp                  2022.2.0\n",
            "intervaltree                  2.1.0\n",
            "ipykernel                     5.3.4\n",
            "ipython                       7.9.0\n",
            "ipython-genutils              0.2.0\n",
            "ipython-sql                   0.3.9\n",
            "ipywidgets                    7.7.1\n",
            "itsdangerous                  1.1.0\n",
            "jax                           0.3.23\n",
            "jaxlib                        0.3.22+cuda11.cudnn805\n",
            "jieba                         0.42.1\n",
            "Jinja2                        2.11.3\n",
            "joblib                        1.2.0\n",
            "jpeg4py                       0.1.4\n",
            "jsonschema                    4.3.3\n",
            "jupyter-client                6.1.12\n",
            "jupyter-console               6.1.0\n",
            "jupyter-core                  4.11.2\n",
            "jupyterlab-widgets            3.0.3\n",
            "kaggle                        1.5.12\n",
            "kapre                         0.3.7\n",
            "keras                         2.9.0\n",
            "Keras-Preprocessing           1.1.2\n",
            "keras-vis                     0.4.1\n",
            "kiwisolver                    1.4.4\n",
            "korean-lunar-calendar         0.3.1\n",
            "langcodes                     3.3.0\n",
            "libclang                      14.0.6\n",
            "librosa                       0.8.1\n",
            "lightgbm                      2.2.3\n",
            "llvmlite                      0.39.1\n",
            "lmdb                          0.99\n",
            "locket                        1.0.0\n",
            "logical-unification           0.4.5\n",
            "LunarCalendar                 0.0.9\n",
            "lxml                          4.9.1\n",
            "Markdown                      3.4.1\n",
            "MarkupSafe                    2.0.1\n",
            "marshmallow                   3.18.0\n",
            "matplotlib                    3.2.2\n",
            "matplotlib-venn               0.11.7\n",
            "miniKanren                    1.0.3\n",
            "missingno                     0.5.1\n",
            "mistune                       0.8.4\n",
            "mizani                        0.7.3\n",
            "mkl                           2019.0\n",
            "mlxtend                       0.14.0\n",
            "more-itertools                9.0.0\n",
            "moviepy                       0.2.3.5\n",
            "mpmath                        1.2.1\n",
            "msgpack                       1.0.4\n",
            "multidict                     6.0.2\n",
            "multipledispatch              0.6.0\n",
            "multitasking                  0.0.11\n",
            "murmurhash                    1.0.9\n",
            "music21                       5.5.0\n",
            "natsort                       5.5.0\n",
            "nbconvert                     5.6.1\n",
            "nbformat                      5.7.0\n",
            "netCDF4                       1.6.1\n",
            "networkx                      2.6.3\n",
            "nibabel                       3.0.2\n",
            "nltk                          3.7\n",
            "notebook                      5.5.0\n",
            "numba                         0.56.3\n",
            "numexpr                       2.8.4\n",
            "numpy                         1.21.6\n",
            "oauth2client                  4.1.3\n",
            "oauthlib                      3.2.2\n",
            "okgrade                       0.4.3\n",
            "opencv-contrib-python         4.6.0.66\n",
            "opencv-python                 4.6.0.66\n",
            "opencv-python-headless        4.6.0.66\n",
            "openpyxl                      3.0.10\n",
            "opt-einsum                    3.3.0\n",
            "osqp                          0.6.2.post0\n",
            "packaging                     21.3\n",
            "palettable                    3.3.0\n",
            "pandas                        1.3.5\n",
            "pandas-datareader             0.9.0\n",
            "pandas-gbq                    0.13.3\n",
            "pandas-profiling              1.4.1\n",
            "pandocfilters                 1.5.0\n",
            "panel                         0.12.1\n",
            "param                         1.12.2\n",
            "parso                         0.8.3\n",
            "partd                         1.3.0\n",
            "pastel                        0.2.1\n",
            "pathlib                       1.0.1\n",
            "pathy                         0.6.2\n",
            "patsy                         0.5.3\n",
            "pep517                        0.13.0\n",
            "pexpect                       4.8.0\n",
            "pickleshare                   0.7.5\n",
            "Pillow                        7.1.2\n",
            "pip                           21.1.3\n",
            "pip-tools                     6.2.0\n",
            "plotly                        5.5.0\n",
            "plotnine                      0.8.0\n",
            "pluggy                        0.7.1\n",
            "pooch                         1.6.0\n",
            "portpicker                    1.3.9\n",
            "prefetch-generator            1.0.1\n",
            "preshed                       3.0.8\n",
            "prettytable                   3.4.1\n",
            "progressbar2                  3.38.0\n",
            "promise                       2.3\n",
            "prompt-toolkit                2.0.10\n",
            "prophet                       1.1.1\n",
            "protobuf                      3.17.3\n",
            "psutil                        5.4.8\n",
            "psycopg2                      2.9.5\n",
            "ptyprocess                    0.7.0\n",
            "py                            1.11.0\n",
            "pyarrow                       6.0.1\n",
            "pyasn1                        0.4.8\n",
            "pyasn1-modules                0.2.8\n",
            "pycocotools                   2.0.5\n",
            "pycparser                     2.21\n",
            "pyct                          0.4.8\n",
            "pydantic                      1.10.2\n",
            "pydata-google-auth            1.4.0\n",
            "pydot                         1.3.0\n",
            "pydot-ng                      2.0.0\n",
            "pydotplus                     2.0.2\n",
            "PyDrive                       1.3.1\n",
            "pyemd                         0.5.1\n",
            "pyerfa                        2.0.0.1\n",
            "Pygments                      2.6.1\n",
            "pygobject                     3.26.1\n",
            "pylev                         1.4.0\n",
            "pymc                          4.1.4\n",
            "PyMeeus                       0.5.11\n",
            "pymongo                       4.3.2\n",
            "pymystem3                     0.2.0\n",
            "PyOpenGL                      3.1.6\n",
            "pyparsing                     3.0.9\n",
            "pyrsistent                    0.18.1\n",
            "pysimdjson                    3.2.0\n",
            "pysndfile                     1.3.8\n",
            "PySocks                       1.7.1\n",
            "pystan                        3.3.0\n",
            "pytest                        3.6.4\n",
            "python-apt                    0.0.0\n",
            "python-dateutil               2.8.2\n",
            "python-louvain                0.16\n",
            "python-slugify                6.1.2\n",
            "python-utils                  3.3.3\n",
            "pytz                          2022.5\n",
            "pyviz-comms                   2.2.1\n",
            "PyWavelets                    1.3.0\n",
            "PyYAML                        6.0\n",
            "pyzmq                         23.2.1\n",
            "qdldl                         0.1.5.post2\n",
            "qudida                        0.0.4\n",
            "regex                         2022.6.2\n",
            "requests                      2.23.0\n",
            "requests-oauthlib             1.3.1\n",
            "resampy                       0.4.2\n",
            "rpy2                          3.5.5\n",
            "rsa                           4.9\n",
            "scikit-image                  0.18.3\n",
            "scikit-learn                  1.0.2\n",
            "scipy                         1.7.3\n",
            "screen-resolution-extra       0.0.0\n",
            "scs                           3.2.0\n",
            "seaborn                       0.11.2\n",
            "Send2Trash                    1.8.0\n",
            "setuptools                    57.4.0\n",
            "setuptools-git                1.2\n",
            "Shapely                       1.8.5.post1\n",
            "six                           1.15.0\n",
            "sklearn-pandas                1.8.0\n",
            "smart-open                    5.2.1\n",
            "snowballstemmer               2.2.0\n",
            "sortedcontainers              2.4.0\n",
            "soundfile                     0.11.0\n",
            "spacy                         3.4.2\n",
            "spacy-legacy                  3.0.10\n",
            "spacy-loggers                 1.0.3\n",
            "Sphinx                        1.8.6\n",
            "sphinxcontrib-serializinghtml 1.1.5\n",
            "sphinxcontrib-websupport      1.2.4\n",
            "SQLAlchemy                    1.4.42\n",
            "sqlparse                      0.4.3\n",
            "srsly                         2.4.5\n",
            "statsmodels                   0.12.2\n",
            "sympy                         1.7.1\n",
            "tables                        3.7.0\n",
            "tabulate                      0.8.10\n",
            "tblib                         1.7.0\n",
            "tenacity                      8.1.0\n",
            "tensorboard                   2.9.1\n",
            "tensorboard-data-server       0.6.1\n",
            "tensorboard-plugin-wit        1.8.1\n",
            "tensorflow                    2.9.2\n",
            "tensorflow-datasets           4.6.0\n",
            "tensorflow-estimator          2.9.0\n",
            "tensorflow-gcs-config         2.9.1\n",
            "tensorflow-hub                0.12.0\n",
            "tensorflow-io-gcs-filesystem  0.27.0\n",
            "tensorflow-metadata           1.10.0\n",
            "tensorflow-probability        0.16.0\n",
            "termcolor                     2.0.1\n",
            "terminado                     0.13.3\n",
            "testpath                      0.6.0\n",
            "text-unidecode                1.3\n",
            "textblob                      0.15.3\n",
            "thinc                         8.1.5\n",
            "threadpoolctl                 3.1.0\n",
            "tifffile                      2021.11.2\n",
            "toml                          0.10.2\n",
            "tomli                         2.0.1\n",
            "toolz                         0.12.0\n",
            "torch                         1.12.1+cu113\n",
            "torchaudio                    0.12.1+cu113\n",
            "torchsummary                  1.5.1\n",
            "torchtext                     0.13.1\n",
            "torchvision                   0.13.1+cu113\n",
            "tornado                       5.1.1\n",
            "tqdm                          4.64.1\n",
            "traitlets                     5.1.1\n",
            "tweepy                        3.10.0\n",
            "typeguard                     2.7.1\n",
            "typer                         0.4.2\n",
            "typing-extensions             4.1.1\n",
            "tzlocal                       1.5.1\n",
            "uritemplate                   3.0.1\n",
            "urllib3                       1.24.3\n",
            "vega-datasets                 0.9.0\n",
            "wasabi                        0.10.1\n",
            "wcwidth                       0.2.5\n",
            "webargs                       8.2.0\n",
            "webencodings                  0.5.1\n",
            "Werkzeug                      1.0.1\n",
            "wheel                         0.37.1\n",
            "widgetsnbextension            3.6.1\n",
            "wordcloud                     1.8.2.2\n",
            "wrapt                         1.14.1\n",
            "xarray                        0.20.2\n",
            "xarray-einstats               0.2.2\n",
            "xgboost                       0.90\n",
            "xkit                          0.0.0\n",
            "xlrd                          1.1.0\n",
            "xlwt                          1.3.0\n",
            "yarl                          1.8.1\n",
            "yellowbrick                   1.5\n",
            "zict                          2.2.0\n",
            "zipp                          3.10.0\n"
          ]
        }
      ]
    },
    {
      "cell_type": "markdown",
      "source": [
        "### matplotlib\n",
        "\n",
        "Matplotlib es el paquete más común para la creación de gráficos, su biblioteca incluye herramientas para la creación de visualizaciones estáticas, animadas e interactivas en Python.\n",
        "\n",
        "En su [sitio web](https://matplotlib.org/) puede consultarse documentación, ejemplos de uso y plantillas entre otras cosas.\n",
        "\n",
        "Ejemplos de [Google Colaboratory](https://colab.research.google.com/notebooks/charts.ipynb#scrollTo=xNzEBRkzL3B0)\n"
      ],
      "metadata": {
        "id": "qDtIS8B8AMao"
      }
    },
    {
      "cell_type": "code",
      "source": [
        "# Por ejemplo:\n",
        "import matplotlib.pyplot as plt\n",
        "\n",
        "fig, ax = plt.subplots()\n",
        "\n",
        "fruits = ['manzanas', 'moras', 'cerezas', 'naranjas']\n",
        "counts = [80, 100, 200, 55]\n",
        "#bar_labels = ['red', 'blue', '_red', 'orange']\n",
        "bar_colors = ['tab:green', 'tab:blue', 'tab:red', 'tab:orange']\n",
        "\n",
        "ax.bar(fruits, counts, color=bar_colors)\n",
        "\n",
        "ax.set_ylabel('fruit supply')\n",
        "ax.set_title('Fruit supply by kind and color')\n",
        "#ax.legend(title='Fruit color')\n",
        "\n",
        "plt.show()"
      ],
      "metadata": {
        "colab": {
          "base_uri": "https://localhost:8080/",
          "height": 452
        },
        "id": "7MqDfSphNsZ2",
        "outputId": "90552383-2382-46df-b518-0d37606ce166"
      },
      "execution_count": null,
      "outputs": [
        {
          "output_type": "display_data",
          "data": {
            "text/plain": [
              "<Figure size 640x480 with 1 Axes>"
            ],
            "image/png": "[encoded data removed]"
          },
          "metadata": {}
        }
      ]
    },
    {
      "cell_type": "markdown",
      "source": [
        "### Datos externos en Google Colab\n",
        "\n",
        "Google Colab ofrece una [notebook de guía](https://colab.research.google.com/notebooks/io.ipynb) que proporciona recetas para cargar y guardar datos de fuentes externas: archivos locales, Drive, Hojas de cálculo y Cloud Storage"
      ],
      "metadata": {
        "id": "ZPmLzetmAh7b"
      }
    },
    {
      "cell_type": "markdown",
      "source": [
        "### pip\n",
        "\n",
        "pip es un sistema de gestión de paquetes utilizado para instalar y administrar paquetes de software escritos en Python. Muchos paquetes pueden ser encontrados en el Índice de Paquetes de Python: [Python Package Index (PyPI)](https://pypi.org/).\n",
        "\n",
        "El Python Package Index o PyPI es el repositorio de software oficial para aplicaciones de terceros en el lenguaje de programación Python. Los desarrolladores de Python pretenden que sea un catálogo exhaustivo de todos los paquetes de Python escritos en código abierto\n",
        "\n",
        "Una ventaja importante de `pip` es la facilidad de su interfaz de línea de comandos, el cual permite instalar paquetes de software de Python fácilmente desde solo una orden:\n",
        "\n",
        "`pip install nombre-paquete`\n",
        "\n",
        "También puede fácilmente desinstalar algún paquete:\n",
        "\n",
        "`pip uninstall nombre-paquete`"
      ],
      "metadata": {
        "id": "bzz75Qdh_TSn"
      }
    },
    {
      "cell_type": "code",
      "source": [
        "# Un ejemplo:\n",
        "# https://www.geeksforgeeks.org/wikipedia-module-in-python\n",
        "# -32.959029356004855, -60.62864769013717\n",
        "\n",
        "!pip install wikipedia\n",
        "\n",
        "import wikipedia\n",
        "dir(wikipedia)"
      ],
      "metadata": {
        "id": "IMOCQ47RRByZ",
        "colab": {
          "base_uri": "https://localhost:8080/"
        },
        "outputId": "243fed77-1980-4592-b5e3-d75c929ee58b"
      },
      "execution_count": null,
      "outputs": [
        {
          "output_type": "stream",
          "name": "stdout",
          "text": [
            "Collecting wikipedia\n",
            "  Downloading wikipedia-1.4.0.tar.gz (27 kB)\n",
            "  Preparing metadata (setup.py) ... \u001b[?25l\u001b[?25hdone\n",
            "Requirement already satisfied: beautifulsoup4 in /usr/local/lib/python3.10/dist-packages (from wikipedia) (4.12.3)\n",
            "Requirement already satisfied: requests<3.0.0,>=2.0.0 in /usr/local/lib/python3.10/dist-packages (from wikipedia) (2.31.0)\n",
            "Requirement already satisfied: charset-normalizer<4,>=2 in /usr/local/lib/python3.10/dist-packages (from requests<3.0.0,>=2.0.0->wikipedia) (3.3.2)\n",
            "Requirement already satisfied: idna<4,>=2.5 in /usr/local/lib/python3.10/dist-packages (from requests<3.0.0,>=2.0.0->wikipedia) (3.7)\n",
            "Requirement already satisfied: urllib3<3,>=1.21.1 in /usr/local/lib/python3.10/dist-packages (from requests<3.0.0,>=2.0.0->wikipedia) (2.0.7)\n",
            "Requirement already satisfied: certifi>=2017.4.17 in /usr/local/lib/python3.10/dist-packages (from requests<3.0.0,>=2.0.0->wikipedia) (2024.2.2)\n",
            "Requirement already satisfied: soupsieve>1.2 in /usr/local/lib/python3.10/dist-packages (from beautifulsoup4->wikipedia) (2.5)\n",
            "Building wheels for collected packages: wikipedia\n",
            "  Building wheel for wikipedia (setup.py) ... \u001b[?25l\u001b[?25hdone\n",
            "  Created wheel for wikipedia: filename=wikipedia-1.4.0-py3-none-any.whl size=11680 sha256=902ad57239326c5bb11cd57fa1a9ac42e91d9fe0bb662284be3660b251ee9b5a\n",
            "  Stored in directory: /root/.cache/pip/wheels/5e/b6/c5/93f3dec388ae76edc830cb42901bb0232504dfc0df02fc50de\n",
            "Successfully built wikipedia\n",
            "Installing collected packages: wikipedia\n",
            "Successfully installed wikipedia-1.4.0\n"
          ]
        },
        {
          "output_type": "execute_result",
          "data": {
            "text/plain": [
              "['API_URL',\n",
              " 'BeautifulSoup',\n",
              " 'Decimal',\n",
              " 'DisambiguationError',\n",
              " 'HTTPTimeoutError',\n",
              " 'ODD_ERROR_MESSAGE',\n",
              " 'PageError',\n",
              " 'RATE_LIMIT',\n",
              " 'RATE_LIMIT_LAST_CALL',\n",
              " 'RATE_LIMIT_MIN_WAIT',\n",
              " 'RedirectError',\n",
              " 'USER_AGENT',\n",
              " 'WikipediaException',\n",
              " 'WikipediaPage',\n",
              " '__builtins__',\n",
              " '__cached__',\n",
              " '__doc__',\n",
              " '__file__',\n",
              " '__loader__',\n",
              " '__name__',\n",
              " '__package__',\n",
              " '__path__',\n",
              " '__spec__',\n",
              " '__version__',\n",
              " 'cache',\n",
              " 'datetime',\n",
              " 'debug',\n",
              " 'donate',\n",
              " 'exceptions',\n",
              " 'geosearch',\n",
              " 'languages',\n",
              " 'page',\n",
              " 'random',\n",
              " 're',\n",
              " 'requests',\n",
              " 'search',\n",
              " 'set_lang',\n",
              " 'set_rate_limiting',\n",
              " 'set_user_agent',\n",
              " 'stdout_encode',\n",
              " 'suggest',\n",
              " 'summary',\n",
              " 'sys',\n",
              " 'time',\n",
              " 'timedelta',\n",
              " 'unicode_literals',\n",
              " 'util',\n",
              " 'wikipedia']"
            ]
          },
          "metadata": {},
          "execution_count": 48
        }
      ]
    },
    {
      "cell_type": "code",
      "source": [
        "print(\"Busqueda de 'Python' en Wikipedia: \")\n",
        "print(wikipedia.search(\"Python\"))\n",
        "\n",
        "print(\"=\"*20)\n",
        "\n",
        "print('Python (programming language)')\n",
        "print(wikipedia.summary('Python (programming language)'))"
      ],
      "metadata": {
        "id": "Yp0V-w2UbmIn",
        "colab": {
          "base_uri": "https://localhost:8080/"
        },
        "outputId": "fcb72293-7d75-448f-a700-767f39c9cad4"
      },
      "execution_count": null,
      "outputs": [
        {
          "output_type": "stream",
          "name": "stdout",
          "text": [
            "Busqueda de 'Python' en Wikipedia: \n",
            "['Python', 'Python (programming language)', 'Monty Python', 'Ball python', 'Python (codename)', 'Burmese python', 'Reticulated python', 'History of Python', 'Python (genus)', 'Colt Python']\n",
            "====================\n",
            "Python (programming language)\n",
            "Python is a high-level, general-purpose programming language. Its design philosophy emphasizes code readability with the use of significant indentation.\n",
            "Python is dynamically typed and garbage-collected. It supports multiple programming paradigms, including structured (particularly procedural), object-oriented and functional programming. It is often described as a \"batteries included\" language due to its comprehensive standard library.\n",
            "Guido van Rossum began working on Python in the late 1980s as a successor to the ABC programming language and first released it in 1991 as Python 0.9.0. Python 2.0 was released in 2000. Python 3.0, released in 2008, was a major revision not completely backward-compatible with earlier versions. Python 2.7.18, released in 2020, was the last release of Python 2.\n",
            "Python consistently ranks as one of the most popular programming languages, and has gained widespread use in the machine learning community.\n",
            "\n",
            "\n"
          ]
        }
      ]
    },
    {
      "cell_type": "code",
      "source": [
        "help(wikipedia.summary)"
      ],
      "metadata": {
        "colab": {
          "base_uri": "https://localhost:8080/"
        },
        "id": "N6G8aiWA5Gvm",
        "outputId": "f5add4ce-961f-4acb-96a1-107224a78193"
      },
      "execution_count": null,
      "outputs": [
        {
          "output_type": "stream",
          "name": "stdout",
          "text": [
            "Help on cache in module wikipedia.wikipedia:\n",
            "\n",
            "summary = <wikipedia.util.cache object>\n",
            "    Plain text summary of the page.\n",
            "    \n",
            "    .. note:: This is a convenience wrapper - auto_suggest and redirect are enabled by default\n",
            "    \n",
            "    Keyword arguments:\n",
            "    \n",
            "    * sentences - if set, return the first `sentences` sentences (can be no greater than 10).\n",
            "    * chars - if set, return only the first `chars` characters (actual text returned may be slightly longer).\n",
            "    * auto_suggest - let Wikipedia find a valid page title for the query\n",
            "    * redirect - allow redirection without raising RedirectError\n",
            "\n"
          ]
        }
      ]
    },
    {
      "cell_type": "code",
      "source": [
        "wikipedia.set_lang(\"es\")\n",
        "\n",
        "print(wikipedia.search(\"Python\"))\n",
        "resumen = wikipedia.summary(\"Python\",1)\n",
        "print(resumen)"
      ],
      "metadata": {
        "id": "Rh8VNMPkcDgi",
        "colab": {
          "base_uri": "https://localhost:8080/"
        },
        "outputId": "5e8ae833-8bd6-408a-cc0c-99c5bc538f54"
      },
      "execution_count": null,
      "outputs": [
        {
          "output_type": "stream",
          "name": "stdout",
          "text": [
            "['Python', 'RAFAEL Python', 'Python (animal)', 'Historia de Python', 'IronPython', 'Índice de paquetes de Python', 'Python Software Foundation License', 'Python bivittatus', 'Licencia Python', 'Monty Python']\n",
            "Python es un lenguaje de alto nivel de programación interpretado cuya filosofía hace hincapié en la legibilidad de su código.\n"
          ]
        }
      ]
    },
    {
      "cell_type": "code",
      "source": [
        "donde_estoy = wikipedia.geosearch(-32.959029356004855, -60.62864769013717, results = 5)\n",
        "\n",
        "print(donde_estoy)\n",
        "print(len(donde_estoy))"
      ],
      "metadata": {
        "id": "LQTs1KENWc9c",
        "colab": {
          "base_uri": "https://localhost:8080/"
        },
        "outputId": "d61437e1-804d-42fa-8e80-9153ac99bef5"
      },
      "execution_count": null,
      "outputs": [
        {
          "output_type": "stream",
          "name": "stdout",
          "text": [
            "['Facultad de Ciencias Exactas, Ingeniería y Agrimensura (UNR)', 'Instituto Politécnico Superior', 'Hospital Provincial de Rosario', 'Complejo Astronómico Municipal', 'Parque Urquiza (Rosario)']\n",
            "5\n"
          ]
        }
      ]
    },
    {
      "cell_type": "code",
      "source": [
        "for lugar in donde_estoy:\n",
        "  print(lugar)\n",
        "  print(wikipedia.summary(lugar))\n",
        "  print(\"=\"*10)"
      ],
      "metadata": {
        "id": "r_g97MVLdEiM",
        "colab": {
          "base_uri": "https://localhost:8080/"
        },
        "outputId": "eb9e14e7-b08a-4362-d9f4-40735921ec8f"
      },
      "execution_count": null,
      "outputs": [
        {
          "output_type": "stream",
          "name": "stdout",
          "text": [
            "Facultad de Ciencias Exactas, Ingeniería y Agrimensura (UNR)\n",
            "La Facultad de Ciencias Exactas, Ingeniería y Agrimensura (FCEIA) es parte de la Universidad Nacional de Rosario y actualmente dicta 11 carreras de grado –seis de ingeniería, tres licenciaturas y dos profesorados en ciencias exactas–, cuenta con una variada oferta de carreras y cursos de posgrado y también brinda educación a distancia.\n",
            "Además, su Laboratorio de Informática ofrece cursos abiertos a la comunidad, con orientación general y específica.\n",
            "La FCEIA también se relaciona con el medio a través de su extensa red de laboratorios, áreas, centros e institutos, que prestan servicios a empresas y desarrollan investigaciones propias.\n",
            "==========\n",
            "Instituto Politécnico Superior\n",
            "El Instituto Politécnico Superior «General San Martín» es una escuela secundaria técnica de la ciudad de Rosario, perteneciente a la Universidad Nacional de Rosario. Actualmente la dirección de la institución se encuentra encabezada Verónica Filotti, docente de matemáticas con amplia trayectoria en la institución.\n",
            "==========\n",
            "Hospital Provincial de Rosario\n",
            "El Hospital Provincial de Rosario (HPR) es un hospital general en Rosario (Argentina), dependiente del Ministerio de Salud de la provincia de Santa Fe. Es un hospital público, manejado parcialmente por un Concejo electo.\n",
            "El HPR fue el primer hospital en Rosario y en el sur santafesino. Fue inaugurado el 4 de octubre de 1855, con el nombre de Hospital de Caridad, de la Sociedad de Beneficencia de Rosario. Al momento de su fundación, el hospital estaba fuera del ejido urbano de la pequeña \"Villa de Rosario\", que contaba con 3200 habitantes.\n",
            "Al presente, el HPR ha quedado en el centro de la ciudad, sirviendo un área de población estimada de 386.000, tratando anualmente a 182.000 personas, admitiendo 25 pacientes por día, y realizando 300 cirugías por mes. El HPR tiene 16 centros de atención primaria distribuidos en el sudeste de Rosario.\n",
            "==========\n",
            "Complejo Astronómico Municipal\n",
            "El Complejo Astronómico Municipal es un conjunto de edificaciones ubicadas en el sector sudoeste del Parque Urquiza en la ciudad de Rosario, provincia de Santa Fe, Argentina. Ocupa un vasto sector del mismo comprendido, calle Diario La Capital N.º 1602, cercano a la intersección de calle Chacabuco con la continuación de calle Montevideo y fue inaugurado oficialmente el 18 de junio de 1970. Es una institución dependiente de la Secretaría de Cultura y Educación de la Municipalidad de Rosario.\n",
            "Rodeado por distintas especies de árboles traídos de todas partes del mundo y típicos de la región litoral, el edificio central tiene forma de cometa; constituyendo un complejo conformado por el Planetario Municipal de Rosario \"Luis Cándido Carballo\", el Museo Experimental de Ciencias y el Observatorio Astronómico Municipal de Rosario \"Prof. Victorio Capolongo\".[1]​\n",
            "==========\n",
            "Parque Urquiza (Rosario)\n",
            "El Parque Urquiza es un parque urbano público de la ciudad de Rosario, Argentina. \n",
            "Se encuentra ubicado en el borde costanero sudeste, bordeando las barrancas del río Paraná. Está limitado por la calle Mendoza, la Av. Belgrano, la calle Chacabuco y el comienzo de Av. Pellegrini. Su nombre es un homenaje al General Justo José de Urquiza, Presidente de la Nación Argentina de 1854 a 1860.\n",
            "Dentro del parque se encuentran:\n",
            "\n",
            "el Anfiteatro Municipal Humberto de Nito, con capacidad en sus gradas de hormigón para más de 3.000 espectadores\n",
            "el Complejo Astronómico Municipal, que comprende el planetario Luis Cándido Carballo, el Museo Experimental de Ciencias y el Observatorio Víctor Capolongo (nombrado así en honor al insigne profesor y astrónomo que propició su instalación)\n",
            "un inmenso bajorrelieve del escultor Lucio Fontana El Sembrador, ubicado en el lugar desde donde se realizó la primera exportación de trigo\n",
            "un busto del General Urquiza, obra del escultor Erminio Blotta\n",
            "el edificio de la antigua Estación Ferroviaria del ex Ferrocarril Oeste Santafesino\n",
            "el emplazamiento de las baterías que enfrentaron la flota anglo-francesa, después del Combate de la Vuelta de Obligado\n",
            "además de fuentes, esculturas, campos de deportes, trayecto aeróbico y áreas de recreación, posee algunas escaleras talladas en la barranca para salvar dicho accidente geográfico.\n",
            "==========\n"
          ]
        }
      ]
    }
  ]
}